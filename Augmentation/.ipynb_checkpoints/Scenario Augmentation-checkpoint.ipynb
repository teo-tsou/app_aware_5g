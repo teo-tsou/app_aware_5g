{
 "cells": [
  {
   "cell_type": "code",
   "execution_count": 103,
   "id": "6fca7332",
   "metadata": {},
   "outputs": [],
   "source": [
    "def augment(scenario_name, output_file):\n",
    "    \n",
    "    # open scenario\n",
    "    scenario = open(scenario_name)\n",
    "    \n",
    "    # open outputfile\n",
    "    outfile = open(output_file,'w')\n",
    "    \n",
    "    # augment\n",
    "    for line in scenario:\n",
    "        #print(line)\n",
    "\n",
    "        if 'sleep' in line or \"$elapsed -lt\" in line:\n",
    "\n",
    "            # ignore sleeps that are inside web-server\n",
    "            if \"sleep 0.1\" in line:\n",
    "                continue\n",
    "\n",
    "\n",
    "            # split line\n",
    "            splitted = line.split()\n",
    "\n",
    "            # iterate and find int\n",
    "            for item in splitted:\n",
    "\n",
    "                # find the int item\n",
    "                if item.isdigit():\n",
    "\n",
    "                    # obtain a diff from normal distribution\n",
    "                    diff = np.random.normal(0.0, 1, 1)[0]\n",
    "\n",
    "                    # change number\n",
    "                    new_num = round(eval(item) + diff,2)\n",
    "\n",
    "                    # construct the new line with the new number\n",
    "                    new_line = line.replace(item,str(new_num))\n",
    "\n",
    "                    outfile.write(new_line)\n",
    "\n",
    "\n",
    "        else:\n",
    "            outfile.write(line)"
   ]
  },
  {
   "cell_type": "markdown",
   "id": "ccf9d594",
   "metadata": {},
   "source": [
    "# Scenario 1"
   ]
  },
  {
   "cell_type": "code",
   "execution_count": 105,
   "id": "6ff01e70",
   "metadata": {},
   "outputs": [],
   "source": [
    "scenario_name = \"../scenarios/scenario3/ue1.sh\"\n",
    "\n",
    "augment(scenario_name,'out1.sh')"
   ]
  },
  {
   "cell_type": "code",
   "execution_count": 88,
   "id": "2197ba65",
   "metadata": {},
   "outputs": [
    {
     "name": "stdout",
     "output_type": "stream",
     "text": [
      "sleep 25\n",
      "\n",
      "sleep 70\n",
      "\n",
      "sleep 5\n",
      "\n",
      "sleep 52\n",
      "\n"
     ]
    }
   ],
   "source": [
    "scenario2 = open(\"../scenarios/scenario3/ue2.sh\")\n",
    "for line in scenario2:\n",
    "    #print(line)\n",
    "    \n",
    "    if 'sleep' in line or \"$elapsed -lt\" in line:\n",
    "        if \"sleep 0.1\" in line:\n",
    "            continue\n",
    "        print(line)"
   ]
  },
  {
   "cell_type": "code",
   "execution_count": 29,
   "id": "c86749a3",
   "metadata": {},
   "outputs": [
    {
     "name": "stdout",
     "output_type": "stream",
     "text": [
      "sleep 22\n",
      "\n",
      "while [ $elapsed -lt 8 ]\n",
      "\n",
      "sleep 17\n",
      "\n",
      "while [ $elapsed -lt 3 ]\n",
      "\n",
      "sleep 52\n",
      "\n",
      "while [ $elapsed -lt 50 ]\n",
      "\n"
     ]
    }
   ],
   "source": [
    "scenario3 = open(\"../scenarios/scenario3/ue3.sh\")\n",
    "for line in scenario3:\n",
    "    #print(line)\n",
    "    \n",
    "    if 'sleep' in line or \"$elapsed -lt\" in line:\n",
    "        if \"sleep 0.1\" in line:\n",
    "            continue\n",
    "        print(line)"
   ]
  },
  {
   "cell_type": "code",
   "execution_count": null,
   "id": "20f6232f",
   "metadata": {},
   "outputs": [],
   "source": []
  }
 ],
 "metadata": {
  "kernelspec": {
   "display_name": "Python 3 (ipykernel)",
   "language": "python",
   "name": "python3"
  },
  "language_info": {
   "codemirror_mode": {
    "name": "ipython",
    "version": 3
   },
   "file_extension": ".py",
   "mimetype": "text/x-python",
   "name": "python",
   "nbconvert_exporter": "python",
   "pygments_lexer": "ipython3",
   "version": "3.8.12"
  }
 },
 "nbformat": 4,
 "nbformat_minor": 5
}

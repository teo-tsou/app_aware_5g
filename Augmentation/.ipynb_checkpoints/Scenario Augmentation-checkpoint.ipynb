{
 "cells": [
  {
   "cell_type": "code",
   "execution_count": 3,
   "id": "19c410bc",
   "metadata": {},
   "outputs": [],
   "source": [
    "import numpy as np"
   ]
  },
  {
   "cell_type": "code",
   "execution_count": 14,
   "id": "7f6be2c7",
   "metadata": {},
   "outputs": [],
   "source": [
    "def augment(scenario_name, output_file_name):\n",
    "    \n",
    "    \n",
    "    \n",
    "        \n",
    "    for i in range(3):\n",
    "        # open scenario\n",
    "        scenario = open(scenario_name)\n",
    "\n",
    "        # find scenario\n",
    "        if 'scenario1' in scenario_name:\n",
    "            folder='scen1'\n",
    "        elif 'scenario2' in scenario_name:\n",
    "            folder='scen2'\n",
    "        elif 'scenario3' in scenario_name:\n",
    "            folder='scen3'\n",
    "        else:\n",
    "            print('ERROR: scenario num not found!')\n",
    "            \n",
    "        # open outputfile\n",
    "        outfile = open('outputs/'+folder+output_file_name+str(i+1)+'.sh','w')\n",
    "\n",
    "        # augment\n",
    "        for line in scenario:\n",
    "            #print(line)\n",
    "\n",
    "            if 'sleep' in line or \"$elapsed -lt\" in line:\n",
    "\n",
    "                # ignore sleeps that are inside web-server\n",
    "                if \"sleep 0.1\" in line:\n",
    "                    continue\n",
    "\n",
    "\n",
    "                # split line\n",
    "                splitted = line.split()\n",
    "\n",
    "                # iterate and find int\n",
    "                for item in splitted:\n",
    "\n",
    "                    # find the int item\n",
    "                    if item.isdigit():\n",
    "\n",
    "                        # obtain a diff from normal distribution\n",
    "                        diff = np.random.normal(0.0, 1, 1)[0]\n",
    "\n",
    "                        # change number\n",
    "                        new_num = round(eval(item) + diff,2)\n",
    "\n",
    "                        # construct the new line with the new number\n",
    "                        new_line = line.replace(item,str(new_num))\n",
    "\n",
    "                        outfile.write(new_line)\n",
    "\n",
    "\n",
    "            else:\n",
    "                outfile.write(line)"
   ]
  },
  {
   "cell_type": "markdown",
   "id": "953d4f95",
   "metadata": {},
   "source": [
    "# Scenario 1"
   ]
  },
  {
   "cell_type": "code",
   "execution_count": 15,
   "id": "f89e5bb1",
   "metadata": {},
   "outputs": [
    {
     "ename": "UnboundLocalError",
     "evalue": "local variable 'folder' referenced before assignment",
     "output_type": "error",
     "traceback": [
      "\u001b[0;31m---------------------------------------------------------------------------\u001b[0m",
      "\u001b[0;31mUnboundLocalError\u001b[0m                         Traceback (most recent call last)",
      "\u001b[0;32m/tmp/ipykernel_5267/851045689.py\u001b[0m in \u001b[0;36m<module>\u001b[0;34m\u001b[0m\n\u001b[1;32m      1\u001b[0m \u001b[0mscenario_name\u001b[0m \u001b[0;34m=\u001b[0m \u001b[0;34m\"../scenarios/scenario3/ue1.sh\"\u001b[0m\u001b[0;34m\u001b[0m\u001b[0;34m\u001b[0m\u001b[0m\n\u001b[1;32m      2\u001b[0m \u001b[0;34m\u001b[0m\u001b[0m\n\u001b[0;32m----> 3\u001b[0;31m \u001b[0maugment\u001b[0m\u001b[0;34m(\u001b[0m\u001b[0mscenario_name\u001b[0m\u001b[0;34m,\u001b[0m\u001b[0;34m'scen1_aug'\u001b[0m\u001b[0;34m)\u001b[0m\u001b[0;34m\u001b[0m\u001b[0;34m\u001b[0m\u001b[0m\n\u001b[0m",
      "\u001b[0;32m/tmp/ipykernel_5267/2308417596.py\u001b[0m in \u001b[0;36maugment\u001b[0;34m(scenario_name, output_file_name)\u001b[0m\n\u001b[1;32m     17\u001b[0m \u001b[0;34m\u001b[0m\u001b[0m\n\u001b[1;32m     18\u001b[0m         \u001b[0;31m# open outputfile\u001b[0m\u001b[0;34m\u001b[0m\u001b[0;34m\u001b[0m\u001b[0;34m\u001b[0m\u001b[0m\n\u001b[0;32m---> 19\u001b[0;31m         \u001b[0moutfile\u001b[0m \u001b[0;34m=\u001b[0m \u001b[0mopen\u001b[0m\u001b[0;34m(\u001b[0m\u001b[0;34m'outputs/'\u001b[0m\u001b[0;34m+\u001b[0m\u001b[0mfolder\u001b[0m\u001b[0;34m+\u001b[0m\u001b[0moutput_file_name\u001b[0m\u001b[0;34m+\u001b[0m\u001b[0mstr\u001b[0m\u001b[0;34m(\u001b[0m\u001b[0mi\u001b[0m\u001b[0;34m+\u001b[0m\u001b[0;36m1\u001b[0m\u001b[0;34m)\u001b[0m\u001b[0;34m+\u001b[0m\u001b[0;34m'.sh'\u001b[0m\u001b[0;34m,\u001b[0m\u001b[0;34m'w'\u001b[0m\u001b[0;34m)\u001b[0m\u001b[0;34m\u001b[0m\u001b[0;34m\u001b[0m\u001b[0m\n\u001b[0m\u001b[1;32m     20\u001b[0m \u001b[0;34m\u001b[0m\u001b[0m\n\u001b[1;32m     21\u001b[0m         \u001b[0;31m# augment\u001b[0m\u001b[0;34m\u001b[0m\u001b[0;34m\u001b[0m\u001b[0;34m\u001b[0m\u001b[0m\n",
      "\u001b[0;31mUnboundLocalError\u001b[0m: local variable 'folder' referenced before assignment"
     ]
    }
   ],
   "source": [
    "scenario_name = \"../scenarios/scenario3/ue1.sh\"\n",
    "\n",
    "augment(scenario_name,'scen1_aug')"
   ]
  },
  {
   "cell_type": "code",
   "execution_count": null,
   "id": "fc0516fa",
   "metadata": {},
   "outputs": [],
   "source": []
  }
 ],
 "metadata": {
  "kernelspec": {
   "display_name": "Python 3 (ipykernel)",
   "language": "python",
   "name": "python3"
  },
  "language_info": {
   "codemirror_mode": {
    "name": "ipython",
    "version": 3
   },
   "file_extension": ".py",
   "mimetype": "text/x-python",
   "name": "python",
   "nbconvert_exporter": "python",
   "pygments_lexer": "ipython3",
   "version": "3.8.12"
  }
 },
 "nbformat": 4,
 "nbformat_minor": 5
}

{
 "cells": [
  {
   "cell_type": "code",
   "execution_count": 14,
   "id": "f7ea9d89",
   "metadata": {},
   "outputs": [],
   "source": [
    "import numpy as np"
   ]
  },
  {
   "cell_type": "code",
   "execution_count": 19,
   "id": "7f6be2c7",
   "metadata": {},
   "outputs": [],
   "source": [
    "def augment(scenario_names, num):\n",
    "    \n",
    "    # for all scenarios\n",
    "    for scenario_name in scenario_names:\n",
    "\n",
    "        # create num bash files\n",
    "        for i in range(num):\n",
    "            # open scenario\n",
    "            scenario = open(scenario_name)\n",
    "\n",
    "            # find scenario\n",
    "            if 'ue1' in scenario_name:\n",
    "                folder='scen1'\n",
    "            elif 'ue2' in scenario_name:\n",
    "                folder='scen2'\n",
    "            elif 'ue3' in scenario_name:\n",
    "                folder='scen3'\n",
    "            else:\n",
    "                print('ERROR: scenario num not found!')\n",
    "                return\n",
    "\n",
    "            # open outputfile\n",
    "            outfile = open('outputs/'+folder+'/'+folder+'_aug'+str(i+1)+'.sh','w')\n",
    "\n",
    "            # augment\n",
    "            for line in scenario:\n",
    "                #print(line)\n",
    "\n",
    "                if 'sleep' in line or \"$elapsed -lt\" in line:\n",
    "\n",
    "                    # ignore sleeps that are inside web-server\n",
    "                    if \"sleep 0.1\" in line:\n",
    "                        continue\n",
    "\n",
    "\n",
    "                    # split line\n",
    "                    splitted = line.split()\n",
    "\n",
    "                    # iterate and find int\n",
    "                    for item in splitted:\n",
    "\n",
    "                        # find the int item\n",
    "                        if item.isdigit():\n",
    "\n",
    "                            # obtain a diff from normal distribution\n",
    "                            diff = np.random.normal(0.0, 1, 1)[0]\n",
    "\n",
    "                            # change number\n",
    "                            new_num = round(eval(item) + diff,2)\n",
    "\n",
    "                            # construct the new line with the new number\n",
    "                            new_line = line.replace(item,str(new_num))\n",
    "\n",
    "                            outfile.write(new_line)\n",
    "\n",
    "\n",
    "                else:\n",
    "                    outfile.write(line)"
   ]
  },
  {
   "cell_type": "markdown",
   "id": "953d4f95",
   "metadata": {},
   "source": [
    "# Scenario 1"
   ]
  },
  {
   "cell_type": "code",
   "execution_count": 21,
   "id": "f89e5bb1",
   "metadata": {},
   "outputs": [],
   "source": [
    "scenario_names = [\"../scenarios/scenario3/ue1.sh\", \"../scenarios/scenario3/ue2.sh\", \"../scenarios/scenario3/ue3.sh\"]\n",
    "\n",
    "\n",
    "augment(scenario_names,100)"
   ]
  },
  {
   "cell_type": "code",
   "execution_count": null,
   "id": "fc0516fa",
   "metadata": {},
   "outputs": [],
   "source": []
  }
 ],
 "metadata": {
  "kernelspec": {
   "display_name": "Python 3 (ipykernel)",
   "language": "python",
   "name": "python3"
  },
  "language_info": {
   "codemirror_mode": {
    "name": "ipython",
    "version": 3
   },
   "file_extension": ".py",
   "mimetype": "text/x-python",
   "name": "python",
   "nbconvert_exporter": "python",
   "pygments_lexer": "ipython3",
   "version": "3.8.12"
  }
 },
 "nbformat": 4,
 "nbformat_minor": 5
}

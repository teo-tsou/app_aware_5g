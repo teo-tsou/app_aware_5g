{
 "cells": [
  {
   "cell_type": "code",
   "execution_count": 14,
   "id": "5c7ed3ac",
   "metadata": {},
   "outputs": [],
   "source": [
    "import numpy as np\n",
    "import matplotlib.pyplot as plt"
   ]
  },
  {
   "cell_type": "code",
   "execution_count": 29,
   "id": "7f6be2c7",
   "metadata": {},
   "outputs": [],
   "source": [
    "def augment(scenario_names, num, sd=1):\n",
    "    \n",
    "    # for all scenarios\n",
    "    for scenario_name in scenario_names:\n",
    "\n",
    "        # create num bash files\n",
    "        for i in range(num):\n",
    "            # open scenario\n",
    "            scenario = open(scenario_name)\n",
    "\n",
    "            # find scenario\n",
    "            if 'ue1' in scenario_name:\n",
    "                folder='scen1'\n",
    "            elif 'ue2' in scenario_name:\n",
    "                folder='scen2'\n",
    "            elif 'ue3' in scenario_name:\n",
    "                folder='scen3'\n",
    "            else:\n",
    "                print('ERROR: scenario num not found!')\n",
    "                return\n",
    "            \n",
    "            # find sd\n",
    "            if sd==1:\n",
    "                sd_folder='sd_1'\n",
    "            elif sd==0.4:\n",
    "                sd_folder = 'sd_0_4'\n",
    "            elif sd==0.5:\n",
    "                sd_folder = 'sd_0_5'\n",
    "            elif sd==0.6:\n",
    "                sd_folder = 'sd_0_6'\n",
    "            elif sd==0.7:\n",
    "                sd_folder = 'sd_0_7'\n",
    "            elif sd==0.8:\n",
    "                sd_folder = 'sd_0_8'\n",
    "            elif sd==0.9:\n",
    "                sd_folder = 'sd_0_9'\n",
    "            else:\n",
    "                print('ERROR: sd not implemented yet!')\n",
    "                return\n",
    "\n",
    "\n",
    "            # open outputfile\n",
    "            outfile = open('outputs/'+folder+'/'+sd_folder+'/'+folder+'_aug'+str(i+1)+'.sh','w')\n",
    "\n",
    "            # augment\n",
    "            for line in scenario:\n",
    "                #print(line)\n",
    "\n",
    "                if 'sleep' in line or \"$elapsed -lt\" in line:\n",
    "\n",
    "                    # ignore sleeps that are inside web-server\n",
    "                    if \"sleep 0.1\" in line:\n",
    "                        continue\n",
    "\n",
    "\n",
    "                    # split line\n",
    "                    splitted = line.split()\n",
    "\n",
    "                    # iterate and find int\n",
    "                    for item in splitted:\n",
    "\n",
    "                        # find the int item\n",
    "                        if item.isdigit():\n",
    "\n",
    "                            # obtain a diff from normal distribution\n",
    "                            diff = np.random.normal(0.0, sd, 1)[0]\n",
    "\n",
    "                            # change number\n",
    "                            new_num = round(eval(item) + diff,2)\n",
    "\n",
    "                            # construct the new line with the new number\n",
    "                            new_line = line.replace(item,str(new_num))\n",
    "\n",
    "                            outfile.write(new_line)\n",
    "\n",
    "\n",
    "                else:\n",
    "                    outfile.write(line)"
   ]
  },
  {
   "cell_type": "markdown",
   "id": "953d4f95",
   "metadata": {},
   "source": [
    "# Scenario 1"
   ]
  },
  {
   "cell_type": "code",
   "execution_count": 32,
   "id": "f89e5bb1",
   "metadata": {},
   "outputs": [],
   "source": [
    "scenario_names = [\"../scenarios/scenario3/ue1.sh\", \"../scenarios/scenario3/ue2.sh\", \"../scenarios/scenario3/ue3.sh\"]\n",
    "\n",
    "\n",
    "augment(scenario_names,100,sd=0.9)"
   ]
  },
  {
   "cell_type": "markdown",
   "id": "2823be62",
   "metadata": {},
   "source": [
    "# Histogram of SDs\n",
    "\n",
    "## sd = 1"
   ]
  },
  {
   "cell_type": "code",
   "execution_count": 43,
   "id": "fc0516fa",
   "metadata": {},
   "outputs": [
    {
     "name": "stdout",
     "output_type": "stream",
     "text": [
      "1000\n"
     ]
    },
    {
     "data": {
      "image/png": "[encoded data removed]",
      "text/plain": [
       "<Figure size 432x288 with 1 Axes>"
      ]
     },
     "metadata": {
      "needs_background": "light"
     },
     "output_type": "display_data"
    }
   ],
   "source": [
    "values = np.random.normal(0.0, 1, 1000)\n",
    "print(len(values))\n",
    "plot = plt.hist(values,bins=50)"
   ]
  },
  {
   "cell_type": "markdown",
   "id": "e9c395ad",
   "metadata": {},
   "source": [
    "## sd = 0.5"
   ]
  },
  {
   "cell_type": "code",
   "execution_count": 44,
   "id": "c54cb9d3",
   "metadata": {},
   "outputs": [
    {
     "name": "stdout",
     "output_type": "stream",
     "text": [
      "1000\n"
     ]
    },
    {
     "data": {
      "image/png": "[encoded data removed]",
      "text/plain": [
       "<Figure size 432x288 with 1 Axes>"
      ]
     },
     "metadata": {
      "needs_background": "light"
     },
     "output_type": "display_data"
    }
   ],
   "source": [
    "values = np.random.normal(0.0, 0.5, 1000)\n",
    "print(len(values))\n",
    "plot = plt.hist(values,bins=50)"
   ]
  },
  {
   "cell_type": "markdown",
   "id": "84c48d1a",
   "metadata": {},
   "source": [
    "## sd = 0.6"
   ]
  },
  {
   "cell_type": "code",
   "execution_count": 45,
   "id": "9c0e7b2f",
   "metadata": {},
   "outputs": [
    {
     "name": "stdout",
     "output_type": "stream",
     "text": [
      "1000\n"
     ]
    },
    {
     "data": {
      "image/png": "[encoded data removed]",
      "text/plain": [
       "<Figure size 432x288 with 1 Axes>"
      ]
     },
     "metadata": {
      "needs_background": "light"
     },
     "output_type": "display_data"
    }
   ],
   "source": [
    "values = np.random.normal(0.0, 0.6, 1000)\n",
    "print(len(values))\n",
    "plot = plt.hist(values,bins=50)"
   ]
  },
  {
   "cell_type": "markdown",
   "id": "7b04db61",
   "metadata": {},
   "source": [
    "## sd = 0.7"
   ]
  },
  {
   "cell_type": "code",
   "execution_count": 48,
   "id": "5bd0d3d8",
   "metadata": {},
   "outputs": [
    {
     "name": "stdout",
     "output_type": "stream",
     "text": [
      "1000\n"
     ]
    },
    {
     "data": {
      "image/png": "[encoded data removed]",
      "text/plain": [
       "<Figure size 432x288 with 1 Axes>"
      ]
     },
     "metadata": {
      "needs_background": "light"
     },
     "output_type": "display_data"
    }
   ],
   "source": [
    "values = np.random.normal(0.0, 0.7, 1000)\n",
    "print(len(values))\n",
    "plot = plt.hist(values,bins=50)"
   ]
  },
  {
   "cell_type": "markdown",
   "id": "6ddf7054",
   "metadata": {},
   "source": [
    "## sd = 0.8"
   ]
  },
  {
   "cell_type": "code",
   "execution_count": 50,
   "id": "d120c952",
   "metadata": {},
   "outputs": [
    {
     "name": "stdout",
     "output_type": "stream",
     "text": [
      "1000\n"
     ]
    },
    {
     "data": {
      "image/png": "[encoded data removed]",
      "text/plain": [
       "<Figure size 432x288 with 1 Axes>"
      ]
     },
     "metadata": {
      "needs_background": "light"
     },
     "output_type": "display_data"
    }
   ],
   "source": [
    "values = np.random.normal(0.0, 0.8, 1000)\n",
    "print(len(values))\n",
    "plot = plt.hist(values,bins=50)"
   ]
  },
  {
   "cell_type": "markdown",
   "id": "ce6139c5",
   "metadata": {},
   "source": [
    "## sd = 0.9"
   ]
  },
  {
   "cell_type": "code",
   "execution_count": 51,
   "id": "06152f69",
   "metadata": {},
   "outputs": [
    {
     "name": "stdout",
     "output_type": "stream",
     "text": [
      "1000\n"
     ]
    },
    {
     "data": {
      "image/png": "[encoded data removed]",
      "text/plain": [
       "<Figure size 432x288 with 1 Axes>"
      ]
     },
     "metadata": {
      "needs_background": "light"
     },
     "output_type": "display_data"
    }
   ],
   "source": [
    "values = np.random.normal(0.0, 0.9, 1000)\n",
    "print(len(values))\n",
    "plot = plt.hist(values,bins=50)"
   ]
  },
  {
   "cell_type": "code",
   "execution_count": null,
   "id": "5861cd20",
   "metadata": {},
   "outputs": [],
   "source": []
  },
  {
   "cell_type": "code",
   "execution_count": null,
   "id": "a86d1751",
   "metadata": {},
   "outputs": [],
   "source": []
  }
 ],
 "metadata": {
  "kernelspec": {
   "display_name": "Python 3 (ipykernel)",
   "language": "python",
   "name": "python3"
  },
  "language_info": {
   "codemirror_mode": {
    "name": "ipython",
    "version": 3
   },
   "file_extension": ".py",
   "mimetype": "text/x-python",
   "name": "python",
   "nbconvert_exporter": "python",
   "pygments_lexer": "ipython3",
   "version": "3.8.12"
  }
 },
 "nbformat": 4,
 "nbformat_minor": 5
}

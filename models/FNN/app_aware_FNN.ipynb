{
  "nbformat": 4,
  "nbformat_minor": 0,
  "metadata": {
    "colab": {
      "name": "app_aware_FNN.ipynb",
      "provenance": [],
      "collapsed_sections": []
    },
    "kernelspec": {
      "name": "python3",
      "display_name": "Python 3"
    },
    "language_info": {
      "name": "python"
    },
    "accelerator": "TPU"
  },
  "cells": [
    {
      "cell_type": "markdown",
      "source": [
        "# Service-Aware Google Colab Notebook\n",
        "\n",
        "In this notebook, we load and pre-process the data collected from the network traffic scenarios. Moreover, we define, train and evaluate an LSTM model to fit the data optimally.\n",
        "<br>\n",
        "<br>\n",
        "\n",
        "### Upload collected data"
      ],
      "metadata": {
        "id": "b4q99_odD_M4"
      }
    },
    {
      "cell_type": "code",
      "metadata": {
        "colab": {
          "resources": {
            "http://localhost:8080/nbextensions/google.colab/files.js": {
              "data": "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",
              "ok": true,
              "headers": [
                [
                  "content-type",
                  "application/javascript"
                ]
              ],
              "status": 200,
              "status_text": ""
            }
          },
          "base_uri": "https://localhost:8080/",
          "height": 1000
        },
        "id": "CY5IpfpLamzA",
        "outputId": "a76fef37-ff22-4aa6-863a-d7397cc10d25"
      },
      "source": [
        "from google.colab import files\n",
        "uploaded = files.upload()"
      ],
      "execution_count": 1,
      "outputs": [
        {
          "output_type": "display_data",
          "data": {
            "text/html": [
              "\n",
              "     <input type=\"file\" id=\"files-7d890078-9d54-4209-b103-921cb4b11275\" name=\"files[]\" multiple disabled\n",
              "        style=\"border:none\" />\n",
              "     <output id=\"result-7d890078-9d54-4209-b103-921cb4b11275\">\n",
              "      Upload widget is only available when the cell has been executed in the\n",
              "      current browser session. Please rerun this cell to enable.\n",
              "      </output>\n",
              "      <script src=\"/nbextensions/google.colab/files.js\"></script> "
            ],
            "text/plain": [
              "<IPython.core.display.HTML object>"
            ]
          },
          "metadata": {}
        },
        {
          "output_type": "stream",
          "name": "stdout",
          "text": [
            "Saving binary-exp.csv to binary-exp.csv\n",
            "Saving binary9.csv to binary9.csv\n",
            "Saving binary8.csv to binary8.csv\n",
            "Saving binary7.csv to binary7.csv\n",
            "Saving binary6.csv to binary6.csv\n",
            "Saving binary5.csv to binary5.csv\n",
            "Saving binary41.csv to binary41.csv\n",
            "Saving binary40.csv to binary40.csv\n",
            "Saving binary4.csv to binary4.csv\n",
            "Saving binary39.csv to binary39.csv\n",
            "Saving binary38.csv to binary38.csv\n",
            "Saving binary37.csv to binary37.csv\n",
            "Saving binary36.csv to binary36.csv\n",
            "Saving binary35.csv to binary35.csv\n",
            "Saving binary34.csv to binary34.csv\n",
            "Saving binary33.csv to binary33.csv\n",
            "Saving binary32.csv to binary32.csv\n",
            "Saving binary31.csv to binary31.csv\n",
            "Saving binary30.csv to binary30.csv\n",
            "Saving binary3.csv to binary3.csv\n",
            "Saving binary29.csv to binary29.csv\n",
            "Saving binary28.csv to binary28.csv\n",
            "Saving binary27.csv to binary27.csv\n",
            "Saving binary26.csv to binary26.csv\n",
            "Saving binary25.csv to binary25.csv\n",
            "Saving binary24.csv to binary24.csv\n",
            "Saving binary23.csv to binary23.csv\n",
            "Saving binary22.csv to binary22.csv\n",
            "Saving binary21.csv to binary21.csv\n",
            "Saving binary20.csv to binary20.csv\n",
            "Saving binary2.csv to binary2.csv\n",
            "Saving binary19.csv to binary19.csv\n",
            "Saving binary18.csv to binary18.csv\n",
            "Saving binary17.csv to binary17.csv\n",
            "Saving binary16.csv to binary16.csv\n",
            "Saving binary15.csv to binary15.csv\n",
            "Saving binary14.csv to binary14.csv\n",
            "Saving binary13.csv to binary13.csv\n",
            "Saving binary12.csv to binary12.csv\n",
            "Saving binary11.csv to binary11.csv\n",
            "Saving binary10.csv to binary10.csv\n",
            "Saving binary1.csv to binary1.csv\n"
          ]
        }
      ]
    },
    {
      "cell_type": "markdown",
      "source": [
        "### Mount to Google Drive\n",
        "\n",
        "We mount the notebook to google drive to save our final model."
      ],
      "metadata": {
        "id": "1h5URtnCErmr"
      }
    },
    {
      "cell_type": "code",
      "metadata": {
        "colab": {
          "base_uri": "https://localhost:8080/"
        },
        "id": "FXATO_8CmQZW",
        "outputId": "4711dd37-bc0f-4df7-f054-50dbedc66d27"
      },
      "source": [
        "from google.colab import drive\n",
        "drive.mount('/content/gdrive')"
      ],
      "execution_count": null,
      "outputs": [
        {
          "output_type": "stream",
          "name": "stdout",
          "text": [
            "Mounted at /content/gdrive\n"
          ]
        }
      ]
    },
    {
      "cell_type": "markdown",
      "metadata": {
        "id": "we0MGEa-at9C"
      },
      "source": [
        "### Import necessary libraries"
      ]
    },
    {
      "cell_type": "code",
      "metadata": {
        "id": "2vCGhxDIbKQ6"
      },
      "source": [
        "import os\n",
        "import pandas as pd\n",
        "import numpy as np\n",
        "from keras import Sequential\n",
        "from keras.layers import LSTM\n",
        "from keras.layers import Dense\n",
        "from os import walk"
      ],
      "execution_count": 2,
      "outputs": []
    },
    {
      "cell_type": "markdown",
      "source": [
        "### Define Pre-processing Functions"
      ],
      "metadata": {
        "id": "jGlKadqzE57x"
      }
    },
    {
      "cell_type": "code",
      "metadata": {
        "id": "cES4mcRQap4e"
      },
      "source": [
        "def extract_X_y_from_file(array, X_num, y_num):\n",
        "    \"\"\" \n",
        "    Function that pre-process the data with a sliding-window supervised \n",
        "    learning approach extracting X and y\n",
        "\n",
        "    - X_num: Input Window Length (N)\n",
        "    - y_num: Number of prediction time-steps (M). We calculate the y as a mean \n",
        "              of the next M time-slots.\n",
        "    \"\"\"\n",
        "\n",
        "    X = []\n",
        "    y = []\n",
        "    \n",
        "    iterations = len(array)\n",
        "    for i in range(iterations):\n",
        "        ### check if we reach to end\n",
        "        if i+X_num + y_num > len(array):\n",
        "            break\n",
        "            \n",
        "        ### calculate X,y\n",
        "        X_temp = array[i: i+X_num]\n",
        "        y_temp = array[i+X_num: i+X_num + y_num]\n",
        "        \n",
        "        ### format y use mean\n",
        "        new_y_temp = []\n",
        "        # for every column\n",
        "        for j in range(9):\n",
        "            j_temp = []\n",
        "            # for every row\n",
        "            for i in range(y_num):\n",
        "                row = y_temp[i][j]                \n",
        "\n",
        "                j_temp.append(row)\n",
        "\n",
        "            # obtain mean\n",
        "            new_y_temp.append(np.mean(j_temp))\n",
        "                        \n",
        "        \n",
        "        # append\n",
        "        X.append(X_temp)\n",
        "        y.append(new_y_temp)        \n",
        "        \n",
        "    return X,y"
      ],
      "execution_count": 3,
      "outputs": []
    },
    {
      "cell_type": "code",
      "metadata": {
        "id": "9iO3FsHEbEaA"
      },
      "source": [
        "def create_data(X_num = 30, y_num = 5, mypath = 'binary/binary'):\n",
        "    \"\"\"\n",
        "    Function that reads all data csvs and calls the above mentioned function to\n",
        "    extract X and y\n",
        "    \"\"\"\n",
        "    all_X = []\n",
        "    all_y = []\n",
        "    \n",
        "    \n",
        "    # find files in path\n",
        "    f = []\n",
        "    for (dirpath, dirnames, filenames) in walk(mypath):\n",
        "        f.extend(filenames)\n",
        "        break\n",
        "        \n",
        "    # iterate and analyze file\n",
        "    for j,file in enumerate(filenames):\n",
        "        if file == 'binary-exp.csv' or 'binary' not in file:\n",
        "          continue\n",
        "\n",
        "        # temp path\n",
        "        path = mypath +'//' + file\n",
        "\n",
        "        # read csv\n",
        "        df = pd.read_csv(path)\n",
        "        df = df.drop('Time',axis=1)\n",
        "\n",
        "        # convert to list\n",
        "        array = df.values.tolist()\n",
        "\n",
        "        # create X and y\n",
        "        X,y = extract_X_y_from_file(array, X_num, y_num)\n",
        "\n",
        "        # add to final data\n",
        "        all_X = all_X + X\n",
        "        all_y = all_y + y\n",
        "\n",
        "    return all_X, all_y"
      ],
      "execution_count": 4,
      "outputs": []
    },
    {
      "cell_type": "markdown",
      "source": [
        "# Pre-processing\n",
        "\n",
        "Start with pre-processing the augmentation data."
      ],
      "metadata": {
        "id": "eSHz2FN0GL7A"
      }
    },
    {
      "cell_type": "code",
      "metadata": {
        "id": "kxeb1Ss6bGIL"
      },
      "source": [
        "all_X, all_y = create_data(mypath='.')"
      ],
      "execution_count": 5,
      "outputs": []
    },
    {
      "cell_type": "code",
      "metadata": {
        "colab": {
          "base_uri": "https://localhost:8080/"
        },
        "id": "SOwdDiG-bU9T",
        "outputId": "791c25ed-1dd5-40f4-b3cb-9e3fb8540a1e"
      },
      "source": [
        "len(all_X)"
      ],
      "execution_count": 6,
      "outputs": [
        {
          "output_type": "execute_result",
          "data": {
            "text/plain": [
              "5276"
            ]
          },
          "metadata": {},
          "execution_count": 6
        }
      ]
    },
    {
      "cell_type": "code",
      "metadata": {
        "colab": {
          "base_uri": "https://localhost:8080/"
        },
        "id": "ikV_ydTjbz-p",
        "outputId": "f0a5a9f1-6b54-46a9-b57e-985e1e2cfd9d"
      },
      "source": [
        "len(all_y)"
      ],
      "execution_count": 7,
      "outputs": [
        {
          "output_type": "execute_result",
          "data": {
            "text/plain": [
              "5276"
            ]
          },
          "metadata": {},
          "execution_count": 7
        }
      ]
    },
    {
      "cell_type": "code",
      "metadata": {
        "colab": {
          "base_uri": "https://localhost:8080/"
        },
        "id": "fCa6Igvab0CO",
        "outputId": "a37ac6cb-55ee-49a7-9d9d-76317d26a20c"
      },
      "source": [
        "X_data = np.array(all_X)\n",
        "X_data.shape"
      ],
      "execution_count": 28,
      "outputs": [
        {
          "output_type": "execute_result",
          "data": {
            "text/plain": [
              "(5276, 30, 9)"
            ]
          },
          "metadata": {},
          "execution_count": 28
        }
      ]
    },
    {
      "cell_type": "code",
      "metadata": {
        "colab": {
          "base_uri": "https://localhost:8080/"
        },
        "id": "AZL5f5A0b0Ep",
        "outputId": "15126f2d-1908-4095-ee86-084c6b20a9b4"
      },
      "source": [
        "y_data = np.array(all_y)\n",
        "print(y_data.shape)"
      ],
      "execution_count": 29,
      "outputs": [
        {
          "output_type": "stream",
          "name": "stdout",
          "text": [
            "(5276, 9)\n"
          ]
        }
      ]
    },
    {
      "cell_type": "markdown",
      "source": [
        "Pre-process the basic non-augmented scenario to use as validation data."
      ],
      "metadata": {
        "id": "BR1yTR88GSGM"
      }
    },
    {
      "cell_type": "code",
      "metadata": {
        "id": "JV6uSzAdcCBY",
        "colab": {
          "base_uri": "https://localhost:8080/"
        },
        "outputId": "22ef03dc-6657-4e44-bb07-acaf4f87102b"
      },
      "source": [
        "val_X = []\n",
        "val_y = []\n",
        "\n",
        "# temp path\n",
        "path = 'binary-exp.csv'\n",
        "\n",
        "# read csv\n",
        "df = pd.read_csv(path)\n",
        "df = df.drop('Time',axis=1)\n",
        "\n",
        "# convert to list\n",
        "array = df.values.tolist()\n",
        "\n",
        "# create X and y\n",
        "X,y = extract_X_y_from_file(array, 30, 5)\n",
        "\n",
        "\n",
        "# add to final data\n",
        "val_X = val_X + X\n",
        "val_y = val_y + y\n",
        "\n",
        "X_val = np.array(val_X)\n",
        "print(X_val.shape)\n",
        "\n",
        "y_val = np.array(val_y)\n",
        "print(y_val.shape)"
      ],
      "execution_count": 10,
      "outputs": [
        {
          "output_type": "stream",
          "name": "stdout",
          "text": [
            "(125, 30, 9)\n",
            "(125, 9)\n"
          ]
        }
      ]
    },
    {
      "cell_type": "code",
      "source": [
        "X_data = X_data.reshape(X_data.shape[0], X_data.shape[2]* X_data.shape[1])\n",
        "X_data.shape"
      ],
      "metadata": {
        "colab": {
          "base_uri": "https://localhost:8080/"
        },
        "id": "4gtskSTnbmfu",
        "outputId": "42a9f2fe-a323-4579-d60f-aaf563187a88"
      },
      "execution_count": 31,
      "outputs": [
        {
          "output_type": "execute_result",
          "data": {
            "text/plain": [
              "(5276, 270)"
            ]
          },
          "metadata": {},
          "execution_count": 31
        }
      ]
    },
    {
      "cell_type": "code",
      "source": [
        "y_data.shape"
      ],
      "metadata": {
        "colab": {
          "base_uri": "https://localhost:8080/"
        },
        "id": "m55IE8andy25",
        "outputId": "192c2101-9658-4784-c72c-065c8f37eb25"
      },
      "execution_count": 46,
      "outputs": [
        {
          "output_type": "execute_result",
          "data": {
            "text/plain": [
              "(5276, 9)"
            ]
          },
          "metadata": {},
          "execution_count": 46
        }
      ]
    },
    {
      "cell_type": "code",
      "source": [
        "# y_data = y_data.reshape(y_data.shape[0], y_data.shape[1], 1)\n",
        "# y_data.shape"
      ],
      "metadata": {
        "colab": {
          "base_uri": "https://localhost:8080/"
        },
        "id": "pGL1DeMRe5vp",
        "outputId": "56bcb87b-ee4d-4533-8f70-af86799eaea2"
      },
      "execution_count": 13,
      "outputs": [
        {
          "output_type": "execute_result",
          "data": {
            "text/plain": [
              "(5276, 9, 1)"
            ]
          },
          "metadata": {},
          "execution_count": 13
        }
      ]
    },
    {
      "cell_type": "code",
      "source": [
        "X_data[0].shape"
      ],
      "metadata": {
        "colab": {
          "base_uri": "https://localhost:8080/"
        },
        "id": "wOBpr5kIDMG4",
        "outputId": "9532303a-dbbd-4ee8-b4eb-1aa457644ae5"
      },
      "execution_count": 39,
      "outputs": [
        {
          "output_type": "execute_result",
          "data": {
            "text/plain": [
              "(270,)"
            ]
          },
          "metadata": {},
          "execution_count": 39
        }
      ]
    },
    {
      "cell_type": "code",
      "source": [
        "X_data[0]"
      ],
      "metadata": {
        "colab": {
          "base_uri": "https://localhost:8080/"
        },
        "id": "tU6V_I3wDPUn",
        "outputId": "fae739e0-af0a-44c4-f347-c594e3d19371"
      },
      "execution_count": 42,
      "outputs": [
        {
          "output_type": "execute_result",
          "data": {
            "text/plain": [
              "array([1, 0, 0, 0, 0, 0, 0, 0, 0, 1, 0, 0, 0, 0, 0, 0, 0, 0, 1, 0, 0, 0,\n",
              "       0, 0, 0, 0, 0, 1, 0, 0, 0, 0, 0, 0, 0, 0, 0, 0, 0, 0, 0, 0, 0, 0,\n",
              "       0, 1, 0, 0, 0, 0, 0, 0, 0, 0, 1, 0, 0, 0, 0, 0, 0, 0, 0, 1, 0, 0,\n",
              "       0, 0, 0, 0, 0, 0, 1, 0, 0, 0, 0, 0, 0, 0, 0, 1, 0, 0, 0, 0, 0, 0,\n",
              "       0, 0, 1, 0, 0, 0, 0, 0, 0, 0, 0, 1, 0, 0, 0, 0, 0, 0, 0, 0, 1, 0,\n",
              "       0, 0, 0, 0, 0, 0, 0, 1, 0, 0, 0, 0, 0, 0, 0, 0, 1, 0, 0, 0, 0, 0,\n",
              "       0, 0, 0, 1, 0, 0, 0, 0, 0, 0, 0, 0, 1, 0, 0, 0, 0, 0, 0, 0, 0, 1,\n",
              "       0, 0, 0, 0, 0, 0, 0, 0, 1, 0, 0, 0, 0, 0, 0, 0, 0, 1, 0, 0, 0, 0,\n",
              "       0, 0, 0, 0, 1, 0, 0, 0, 0, 0, 0, 0, 1, 1, 0, 0, 0, 0, 0, 0, 0, 1,\n",
              "       1, 0, 0, 0, 0, 0, 0, 0, 1, 1, 0, 0, 0, 1, 0, 0, 0, 1, 1, 0, 0, 0,\n",
              "       1, 0, 0, 0, 1, 1, 0, 0, 0, 1, 0, 0, 0, 1, 1, 0, 0, 0, 1, 0, 0, 0,\n",
              "       1, 1, 0, 0, 0, 1, 0, 0, 0, 1, 1, 0, 0, 0, 1, 0, 0, 0, 0, 1, 0, 0,\n",
              "       0, 1, 0, 0, 0, 0])"
            ]
          },
          "metadata": {},
          "execution_count": 42
        }
      ]
    },
    {
      "cell_type": "code",
      "source": [
        "y_data[0].shape"
      ],
      "metadata": {
        "colab": {
          "base_uri": "https://localhost:8080/"
        },
        "id": "H2759eTTFeoV",
        "outputId": "0b314a42-e16f-43a1-9bdc-3f5ea025d16b"
      },
      "execution_count": 44,
      "outputs": [
        {
          "output_type": "execute_result",
          "data": {
            "text/plain": [
              "(9,)"
            ]
          },
          "metadata": {},
          "execution_count": 44
        }
      ]
    },
    {
      "cell_type": "code",
      "source": [
        "y_data[0]"
      ],
      "metadata": {
        "colab": {
          "base_uri": "https://localhost:8080/"
        },
        "id": "U9GJL8GWFgwj",
        "outputId": "a608bb49-4be1-4e24-f65e-38b235199262"
      },
      "execution_count": 45,
      "outputs": [
        {
          "output_type": "execute_result",
          "data": {
            "text/plain": [
              "array([1., 0., 0., 0., 1., 0., 0., 0., 0.])"
            ]
          },
          "metadata": {},
          "execution_count": 45
        }
      ]
    },
    {
      "cell_type": "markdown",
      "source": [
        "# FNN Model Implementation"
      ],
      "metadata": {
        "id": "8SjbJJV2GmuJ"
      }
    },
    {
      "cell_type": "code",
      "metadata": {
        "colab": {
          "base_uri": "https://localhost:8080/"
        },
        "id": "47JdaCEGbefU",
        "outputId": "92e359cb-2bec-4d2b-b802-f72f6c319f75"
      },
      "source": [
        "model = Sequential()\n",
        "model.add(Dense(25, activation='relu', input_shape=[270]))\n",
        "model.add(Dense(25, activation='relu'))\n",
        "model.add(Dense(9))\n",
        "model.compile(optimizer='adam', loss='mse')\n",
        "model.summary()"
      ],
      "execution_count": 36,
      "outputs": [
        {
          "output_type": "stream",
          "name": "stdout",
          "text": [
            "Model: \"sequential_7\"\n",
            "_________________________________________________________________\n",
            " Layer (type)                Output Shape              Param #   \n",
            "=================================================================\n",
            " dense_26 (Dense)            (None, 25)                6775      \n",
            "                                                                 \n",
            " dense_27 (Dense)            (None, 25)                650       \n",
            "                                                                 \n",
            " dense_28 (Dense)            (None, 9)                 234       \n",
            "                                                                 \n",
            "=================================================================\n",
            "Total params: 7,659\n",
            "Trainable params: 7,659\n",
            "Non-trainable params: 0\n",
            "_________________________________________________________________\n"
          ]
        }
      ]
    },
    {
      "cell_type": "markdown",
      "source": [
        "Define a callback function to save on every iteration the best optimal trained model, based on validation accuracy. Then fit the model to the data."
      ],
      "metadata": {
        "id": "cJZcNgV-Gtk6"
      }
    },
    {
      "cell_type": "code",
      "metadata": {
        "id": "rUyX1H-pmbSk"
      },
      "source": [
        "from keras.callbacks import ModelCheckpoint\n",
        "filepath=\"/content/gdrive/MyDrive/app_aware_FNN_weights_with_val_loss.best.hdf5\"\n",
        "checkpoint = ModelCheckpoint(filepath, monitor='val_loss', verbose=1, save_best_only=True, mode='min')\n",
        "callbacks_list = [checkpoint]"
      ],
      "execution_count": null,
      "outputs": []
    },
    {
      "cell_type": "code",
      "metadata": {
        "colab": {
          "base_uri": "https://localhost:8080/",
          "height": 1000
        },
        "id": "0ETkUGIkbm7g",
        "outputId": "ec10ac90-b202-4f6c-ac4c-581a06f41004"
      },
      "source": [
        "#model.fit(X_data,y_data, validation_data=(X_val,y_val),epochs=300, callbacks=callbacks_list)\n",
        "model.fit(X_data,y_data,epochs=2000)"
      ],
      "execution_count": 37,
      "outputs": [
        {
          "output_type": "stream",
          "name": "stdout",
          "text": [
            "Epoch 1/2000\n",
            "165/165 [==============================] - 1s 2ms/step - loss: 0.0565\n",
            "Epoch 2/2000\n",
            "165/165 [==============================] - 0s 2ms/step - loss: 0.0135\n",
            "Epoch 3/2000\n",
            "165/165 [==============================] - 0s 2ms/step - loss: 0.0101\n",
            "Epoch 4/2000\n",
            "165/165 [==============================] - 0s 2ms/step - loss: 0.0083\n",
            "Epoch 5/2000\n",
            "165/165 [==============================] - 0s 2ms/step - loss: 0.0070\n",
            "Epoch 6/2000\n",
            "165/165 [==============================] - 0s 2ms/step - loss: 0.0063\n",
            "Epoch 7/2000\n",
            "165/165 [==============================] - 0s 2ms/step - loss: 0.0058\n",
            "Epoch 8/2000\n",
            "165/165 [==============================] - 0s 2ms/step - loss: 0.0055\n",
            "Epoch 9/2000\n",
            "165/165 [==============================] - 0s 2ms/step - loss: 0.0052\n",
            "Epoch 10/2000\n",
            "165/165 [==============================] - 0s 2ms/step - loss: 0.0050\n",
            "Epoch 11/2000\n",
            "165/165 [==============================] - 0s 2ms/step - loss: 0.0049\n",
            "Epoch 12/2000\n",
            "165/165 [==============================] - 0s 2ms/step - loss: 0.0048\n",
            "Epoch 13/2000\n",
            "165/165 [==============================] - 0s 2ms/step - loss: 0.0047\n",
            "Epoch 14/2000\n",
            "165/165 [==============================] - 0s 2ms/step - loss: 0.0046\n",
            "Epoch 15/2000\n",
            "165/165 [==============================] - 0s 2ms/step - loss: 0.0046\n",
            "Epoch 16/2000\n",
            "165/165 [==============================] - 0s 2ms/step - loss: 0.0045\n",
            "Epoch 17/2000\n",
            "165/165 [==============================] - 0s 2ms/step - loss: 0.0044\n",
            "Epoch 18/2000\n",
            "165/165 [==============================] - 0s 2ms/step - loss: 0.0043\n",
            "Epoch 19/2000\n",
            "165/165 [==============================] - 0s 2ms/step - loss: 0.0042\n",
            "Epoch 20/2000\n",
            "165/165 [==============================] - 0s 2ms/step - loss: 0.0042\n",
            "Epoch 21/2000\n",
            "165/165 [==============================] - 0s 2ms/step - loss: 0.0042\n",
            "Epoch 22/2000\n",
            "165/165 [==============================] - 0s 2ms/step - loss: 0.0042\n",
            "Epoch 23/2000\n",
            "165/165 [==============================] - 0s 2ms/step - loss: 0.0041\n",
            "Epoch 24/2000\n",
            "165/165 [==============================] - 0s 2ms/step - loss: 0.0041\n",
            "Epoch 25/2000\n",
            "165/165 [==============================] - 0s 2ms/step - loss: 0.0040\n",
            "Epoch 26/2000\n",
            "165/165 [==============================] - 0s 2ms/step - loss: 0.0040\n",
            "Epoch 27/2000\n",
            "165/165 [==============================] - 0s 2ms/step - loss: 0.0040\n",
            "Epoch 28/2000\n",
            "165/165 [==============================] - 0s 2ms/step - loss: 0.0039\n",
            "Epoch 29/2000\n",
            "165/165 [==============================] - 0s 2ms/step - loss: 0.0038\n",
            "Epoch 30/2000\n",
            "165/165 [==============================] - 0s 2ms/step - loss: 0.0039\n",
            "Epoch 31/2000\n",
            "165/165 [==============================] - 0s 2ms/step - loss: 0.0038\n",
            "Epoch 32/2000\n",
            "165/165 [==============================] - 0s 2ms/step - loss: 0.0038\n",
            "Epoch 33/2000\n",
            "165/165 [==============================] - 0s 2ms/step - loss: 0.0038\n",
            "Epoch 34/2000\n",
            "165/165 [==============================] - 0s 2ms/step - loss: 0.0037\n",
            "Epoch 35/2000\n",
            "165/165 [==============================] - 0s 2ms/step - loss: 0.0037\n",
            "Epoch 36/2000\n",
            "165/165 [==============================] - 0s 2ms/step - loss: 0.0037\n",
            "Epoch 37/2000\n",
            "165/165 [==============================] - 0s 2ms/step - loss: 0.0036\n",
            "Epoch 38/2000\n",
            "165/165 [==============================] - 0s 2ms/step - loss: 0.0036\n",
            "Epoch 39/2000\n",
            "165/165 [==============================] - 0s 2ms/step - loss: 0.0036\n",
            "Epoch 40/2000\n",
            "165/165 [==============================] - 0s 2ms/step - loss: 0.0036\n",
            "Epoch 41/2000\n",
            "165/165 [==============================] - 0s 2ms/step - loss: 0.0036\n",
            "Epoch 42/2000\n",
            "165/165 [==============================] - 0s 2ms/step - loss: 0.0035\n",
            "Epoch 43/2000\n",
            "165/165 [==============================] - 0s 2ms/step - loss: 0.0036\n",
            "Epoch 44/2000\n",
            "165/165 [==============================] - 0s 2ms/step - loss: 0.0036\n",
            "Epoch 45/2000\n",
            "165/165 [==============================] - 0s 2ms/step - loss: 0.0036\n",
            "Epoch 46/2000\n",
            "165/165 [==============================] - 0s 2ms/step - loss: 0.0035\n",
            "Epoch 47/2000\n",
            "165/165 [==============================] - 0s 2ms/step - loss: 0.0036\n",
            "Epoch 48/2000\n",
            "165/165 [==============================] - 0s 2ms/step - loss: 0.0035\n",
            "Epoch 49/2000\n",
            "165/165 [==============================] - 0s 2ms/step - loss: 0.0035\n",
            "Epoch 50/2000\n",
            "165/165 [==============================] - 0s 2ms/step - loss: 0.0034\n",
            "Epoch 51/2000\n",
            "165/165 [==============================] - 0s 2ms/step - loss: 0.0034\n",
            "Epoch 52/2000\n",
            "165/165 [==============================] - 0s 2ms/step - loss: 0.0034\n",
            "Epoch 53/2000\n",
            "165/165 [==============================] - 0s 2ms/step - loss: 0.0035\n",
            "Epoch 54/2000\n",
            "165/165 [==============================] - 0s 2ms/step - loss: 0.0035\n",
            "Epoch 55/2000\n",
            "165/165 [==============================] - 0s 2ms/step - loss: 0.0035\n",
            "Epoch 56/2000\n",
            "165/165 [==============================] - 0s 2ms/step - loss: 0.0034\n",
            "Epoch 57/2000\n",
            "165/165 [==============================] - 0s 2ms/step - loss: 0.0034\n",
            "Epoch 58/2000\n",
            "165/165 [==============================] - 0s 2ms/step - loss: 0.0034\n",
            "Epoch 59/2000\n",
            "165/165 [==============================] - 0s 2ms/step - loss: 0.0034\n",
            "Epoch 60/2000\n",
            "165/165 [==============================] - 0s 3ms/step - loss: 0.0033\n",
            "Epoch 61/2000\n",
            "165/165 [==============================] - 0s 2ms/step - loss: 0.0033\n",
            "Epoch 62/2000\n",
            "165/165 [==============================] - 0s 2ms/step - loss: 0.0033\n",
            "Epoch 63/2000\n",
            "165/165 [==============================] - 0s 2ms/step - loss: 0.0033\n",
            "Epoch 64/2000\n",
            "165/165 [==============================] - 0s 2ms/step - loss: 0.0033\n",
            "Epoch 65/2000\n",
            "165/165 [==============================] - 0s 2ms/step - loss: 0.0033\n",
            "Epoch 66/2000\n",
            "165/165 [==============================] - 0s 2ms/step - loss: 0.0033\n",
            "Epoch 67/2000\n",
            "165/165 [==============================] - 0s 2ms/step - loss: 0.0033\n",
            "Epoch 68/2000\n",
            "165/165 [==============================] - 0s 3ms/step - loss: 0.0033\n",
            "Epoch 69/2000\n",
            "165/165 [==============================] - 0s 2ms/step - loss: 0.0033\n",
            "Epoch 70/2000\n",
            "165/165 [==============================] - 0s 2ms/step - loss: 0.0033\n",
            "Epoch 71/2000\n",
            "165/165 [==============================] - 0s 2ms/step - loss: 0.0033\n",
            "Epoch 72/2000\n",
            "165/165 [==============================] - 0s 2ms/step - loss: 0.0033\n",
            "Epoch 73/2000\n",
            "165/165 [==============================] - 0s 2ms/step - loss: 0.0032\n",
            "Epoch 74/2000\n",
            "165/165 [==============================] - 0s 3ms/step - loss: 0.0033\n",
            "Epoch 75/2000\n",
            "165/165 [==============================] - 0s 2ms/step - loss: 0.0032\n",
            "Epoch 76/2000\n",
            "165/165 [==============================] - 0s 2ms/step - loss: 0.0033\n",
            "Epoch 77/2000\n",
            "165/165 [==============================] - 0s 2ms/step - loss: 0.0032\n",
            "Epoch 78/2000\n",
            "165/165 [==============================] - 0s 2ms/step - loss: 0.0033\n",
            "Epoch 79/2000\n",
            "165/165 [==============================] - 0s 2ms/step - loss: 0.0032\n",
            "Epoch 80/2000\n",
            "165/165 [==============================] - 0s 2ms/step - loss: 0.0032\n",
            "Epoch 81/2000\n",
            "165/165 [==============================] - 0s 2ms/step - loss: 0.0032\n",
            "Epoch 82/2000\n",
            "165/165 [==============================] - 0s 2ms/step - loss: 0.0032\n",
            "Epoch 83/2000\n",
            "165/165 [==============================] - 0s 2ms/step - loss: 0.0032\n",
            "Epoch 84/2000\n",
            "165/165 [==============================] - 0s 2ms/step - loss: 0.0032\n",
            "Epoch 85/2000\n",
            "165/165 [==============================] - 0s 2ms/step - loss: 0.0032\n",
            "Epoch 86/2000\n",
            "165/165 [==============================] - 0s 2ms/step - loss: 0.0032\n",
            "Epoch 87/2000\n",
            "165/165 [==============================] - 0s 2ms/step - loss: 0.0032\n",
            "Epoch 88/2000\n",
            "165/165 [==============================] - 0s 2ms/step - loss: 0.0031\n",
            "Epoch 89/2000\n",
            "165/165 [==============================] - 0s 2ms/step - loss: 0.0032\n",
            "Epoch 90/2000\n",
            "165/165 [==============================] - 0s 2ms/step - loss: 0.0032\n",
            "Epoch 91/2000\n",
            "165/165 [==============================] - 0s 2ms/step - loss: 0.0032\n",
            "Epoch 92/2000\n",
            "165/165 [==============================] - 0s 2ms/step - loss: 0.0032\n",
            "Epoch 93/2000\n",
            "165/165 [==============================] - 0s 2ms/step - loss: 0.0032\n",
            "Epoch 94/2000\n",
            "165/165 [==============================] - 0s 2ms/step - loss: 0.0031\n",
            "Epoch 95/2000\n",
            "165/165 [==============================] - 0s 2ms/step - loss: 0.0032\n",
            "Epoch 96/2000\n",
            "165/165 [==============================] - 0s 2ms/step - loss: 0.0031\n",
            "Epoch 97/2000\n",
            "165/165 [==============================] - 0s 3ms/step - loss: 0.0031\n",
            "Epoch 98/2000\n",
            "165/165 [==============================] - 0s 2ms/step - loss: 0.0031\n",
            "Epoch 99/2000\n",
            "165/165 [==============================] - 0s 3ms/step - loss: 0.0031\n",
            "Epoch 100/2000\n",
            "165/165 [==============================] - 0s 2ms/step - loss: 0.0031\n",
            "Epoch 101/2000\n",
            "165/165 [==============================] - 0s 2ms/step - loss: 0.0031\n",
            "Epoch 102/2000\n",
            "165/165 [==============================] - 0s 3ms/step - loss: 0.0031\n",
            "Epoch 103/2000\n",
            "165/165 [==============================] - 0s 2ms/step - loss: 0.0031\n",
            "Epoch 104/2000\n",
            "165/165 [==============================] - 0s 2ms/step - loss: 0.0031\n",
            "Epoch 105/2000\n",
            "165/165 [==============================] - 0s 2ms/step - loss: 0.0031\n",
            "Epoch 106/2000\n",
            "165/165 [==============================] - 0s 2ms/step - loss: 0.0031\n",
            "Epoch 107/2000\n",
            "165/165 [==============================] - 0s 2ms/step - loss: 0.0030\n",
            "Epoch 108/2000\n",
            "165/165 [==============================] - 0s 2ms/step - loss: 0.0032\n",
            "Epoch 109/2000\n",
            "165/165 [==============================] - 0s 2ms/step - loss: 0.0032\n",
            "Epoch 110/2000\n",
            "165/165 [==============================] - 0s 2ms/step - loss: 0.0031\n",
            "Epoch 111/2000\n",
            "165/165 [==============================] - 0s 2ms/step - loss: 0.0030\n",
            "Epoch 112/2000\n",
            "165/165 [==============================] - 0s 2ms/step - loss: 0.0030\n",
            "Epoch 113/2000\n",
            "165/165 [==============================] - 0s 2ms/step - loss: 0.0031\n",
            "Epoch 114/2000\n",
            "165/165 [==============================] - 0s 2ms/step - loss: 0.0031\n",
            "Epoch 115/2000\n",
            "165/165 [==============================] - 0s 2ms/step - loss: 0.0030\n",
            "Epoch 116/2000\n",
            "165/165 [==============================] - 0s 2ms/step - loss: 0.0030\n",
            "Epoch 117/2000\n",
            "165/165 [==============================] - 0s 2ms/step - loss: 0.0030\n",
            "Epoch 118/2000\n",
            "165/165 [==============================] - 0s 2ms/step - loss: 0.0030\n",
            "Epoch 119/2000\n",
            "165/165 [==============================] - 0s 2ms/step - loss: 0.0030\n",
            "Epoch 120/2000\n",
            "165/165 [==============================] - 0s 3ms/step - loss: 0.0031\n",
            "Epoch 121/2000\n",
            "165/165 [==============================] - 0s 2ms/step - loss: 0.0030\n",
            "Epoch 122/2000\n",
            "165/165 [==============================] - 0s 2ms/step - loss: 0.0031\n",
            "Epoch 123/2000\n",
            "165/165 [==============================] - 0s 2ms/step - loss: 0.0030\n",
            "Epoch 124/2000\n",
            "165/165 [==============================] - 0s 2ms/step - loss: 0.0030\n",
            "Epoch 125/2000\n",
            "165/165 [==============================] - 0s 2ms/step - loss: 0.0030\n",
            "Epoch 126/2000\n",
            "165/165 [==============================] - 0s 2ms/step - loss: 0.0030\n",
            "Epoch 127/2000\n",
            "165/165 [==============================] - 0s 2ms/step - loss: 0.0030\n",
            "Epoch 128/2000\n",
            "165/165 [==============================] - 0s 2ms/step - loss: 0.0030\n",
            "Epoch 129/2000\n",
            "165/165 [==============================] - 0s 2ms/step - loss: 0.0030\n",
            "Epoch 130/2000\n",
            "165/165 [==============================] - 0s 2ms/step - loss: 0.0030\n",
            "Epoch 131/2000\n",
            "165/165 [==============================] - 0s 2ms/step - loss: 0.0030\n",
            "Epoch 132/2000\n",
            "165/165 [==============================] - 0s 2ms/step - loss: 0.0030\n",
            "Epoch 133/2000\n",
            "165/165 [==============================] - 0s 2ms/step - loss: 0.0030\n",
            "Epoch 134/2000\n",
            "165/165 [==============================] - 0s 2ms/step - loss: 0.0030\n",
            "Epoch 135/2000\n",
            "165/165 [==============================] - 0s 2ms/step - loss: 0.0029\n",
            "Epoch 136/2000\n",
            "165/165 [==============================] - 0s 2ms/step - loss: 0.0030\n",
            "Epoch 137/2000\n",
            "165/165 [==============================] - 0s 2ms/step - loss: 0.0030\n",
            "Epoch 138/2000\n",
            "165/165 [==============================] - 0s 2ms/step - loss: 0.0030\n",
            "Epoch 139/2000\n",
            "165/165 [==============================] - 0s 2ms/step - loss: 0.0030\n",
            "Epoch 140/2000\n",
            "165/165 [==============================] - 0s 2ms/step - loss: 0.0030\n",
            "Epoch 141/2000\n",
            "165/165 [==============================] - 0s 2ms/step - loss: 0.0030\n",
            "Epoch 142/2000\n",
            "165/165 [==============================] - 0s 2ms/step - loss: 0.0030\n",
            "Epoch 143/2000\n",
            "165/165 [==============================] - 0s 2ms/step - loss: 0.0029\n",
            "Epoch 144/2000\n",
            "165/165 [==============================] - 0s 2ms/step - loss: 0.0029\n",
            "Epoch 145/2000\n",
            "165/165 [==============================] - 0s 2ms/step - loss: 0.0030\n",
            "Epoch 146/2000\n",
            "165/165 [==============================] - 0s 2ms/step - loss: 0.0029\n",
            "Epoch 147/2000\n",
            "165/165 [==============================] - 0s 2ms/step - loss: 0.0029\n",
            "Epoch 148/2000\n",
            "165/165 [==============================] - 0s 2ms/step - loss: 0.0029\n",
            "Epoch 149/2000\n",
            "165/165 [==============================] - 0s 2ms/step - loss: 0.0029\n",
            "Epoch 150/2000\n",
            "165/165 [==============================] - 0s 2ms/step - loss: 0.0029\n",
            "Epoch 151/2000\n",
            "165/165 [==============================] - 0s 2ms/step - loss: 0.0030\n",
            "Epoch 152/2000\n",
            "165/165 [==============================] - 0s 2ms/step - loss: 0.0029\n",
            "Epoch 153/2000\n",
            "165/165 [==============================] - 0s 2ms/step - loss: 0.0030\n",
            "Epoch 154/2000\n",
            "165/165 [==============================] - 0s 2ms/step - loss: 0.0029\n",
            "Epoch 155/2000\n",
            "165/165 [==============================] - 0s 2ms/step - loss: 0.0029\n",
            "Epoch 156/2000\n",
            "165/165 [==============================] - 0s 2ms/step - loss: 0.0030\n",
            "Epoch 157/2000\n",
            "165/165 [==============================] - 0s 2ms/step - loss: 0.0029\n",
            "Epoch 158/2000\n",
            "165/165 [==============================] - 0s 2ms/step - loss: 0.0029\n",
            "Epoch 159/2000\n",
            "165/165 [==============================] - 0s 2ms/step - loss: 0.0030\n",
            "Epoch 160/2000\n",
            "165/165 [==============================] - 0s 2ms/step - loss: 0.0030\n",
            "Epoch 161/2000\n",
            "165/165 [==============================] - 0s 2ms/step - loss: 0.0029\n"
          ]
        },
        {
          "output_type": "error",
          "ename": "KeyboardInterrupt",
          "evalue": "ignored",
          "traceback": [
            "\u001b[0;31m---------------------------------------------------------------------------\u001b[0m",
            "\u001b[0;31mKeyboardInterrupt\u001b[0m                         Traceback (most recent call last)",
            "\u001b[0;32m<ipython-input-37-e0fac0d9c687>\u001b[0m in \u001b[0;36m<module>\u001b[0;34m()\u001b[0m\n\u001b[1;32m      1\u001b[0m \u001b[0;31m#model.fit(X_data,y_data, validation_data=(X_val,y_val),epochs=300, callbacks=callbacks_list)\u001b[0m\u001b[0;34m\u001b[0m\u001b[0;34m\u001b[0m\u001b[0;34m\u001b[0m\u001b[0m\n\u001b[0;32m----> 2\u001b[0;31m \u001b[0mmodel\u001b[0m\u001b[0;34m.\u001b[0m\u001b[0mfit\u001b[0m\u001b[0;34m(\u001b[0m\u001b[0mX_data\u001b[0m\u001b[0;34m,\u001b[0m\u001b[0my_data\u001b[0m\u001b[0;34m,\u001b[0m\u001b[0mepochs\u001b[0m\u001b[0;34m=\u001b[0m\u001b[0;36m2000\u001b[0m\u001b[0;34m)\u001b[0m\u001b[0;34m\u001b[0m\u001b[0;34m\u001b[0m\u001b[0m\n\u001b[0m",
            "\u001b[0;32m/usr/local/lib/python3.7/dist-packages/keras/utils/traceback_utils.py\u001b[0m in \u001b[0;36merror_handler\u001b[0;34m(*args, **kwargs)\u001b[0m\n\u001b[1;32m     62\u001b[0m     \u001b[0mfiltered_tb\u001b[0m \u001b[0;34m=\u001b[0m \u001b[0;32mNone\u001b[0m\u001b[0;34m\u001b[0m\u001b[0;34m\u001b[0m\u001b[0m\n\u001b[1;32m     63\u001b[0m     \u001b[0;32mtry\u001b[0m\u001b[0;34m:\u001b[0m\u001b[0;34m\u001b[0m\u001b[0;34m\u001b[0m\u001b[0m\n\u001b[0;32m---> 64\u001b[0;31m       \u001b[0;32mreturn\u001b[0m \u001b[0mfn\u001b[0m\u001b[0;34m(\u001b[0m\u001b[0;34m*\u001b[0m\u001b[0margs\u001b[0m\u001b[0;34m,\u001b[0m \u001b[0;34m**\u001b[0m\u001b[0mkwargs\u001b[0m\u001b[0;34m)\u001b[0m\u001b[0;34m\u001b[0m\u001b[0;34m\u001b[0m\u001b[0m\n\u001b[0m\u001b[1;32m     65\u001b[0m     \u001b[0;32mexcept\u001b[0m \u001b[0mException\u001b[0m \u001b[0;32mas\u001b[0m \u001b[0me\u001b[0m\u001b[0;34m:\u001b[0m  \u001b[0;31m# pylint: disable=broad-except\u001b[0m\u001b[0;34m\u001b[0m\u001b[0;34m\u001b[0m\u001b[0m\n\u001b[1;32m     66\u001b[0m       \u001b[0mfiltered_tb\u001b[0m \u001b[0;34m=\u001b[0m \u001b[0m_process_traceback_frames\u001b[0m\u001b[0;34m(\u001b[0m\u001b[0me\u001b[0m\u001b[0;34m.\u001b[0m\u001b[0m__traceback__\u001b[0m\u001b[0;34m)\u001b[0m\u001b[0;34m\u001b[0m\u001b[0;34m\u001b[0m\u001b[0m\n",
            "\u001b[0;32m/usr/local/lib/python3.7/dist-packages/keras/engine/training.py\u001b[0m in \u001b[0;36mfit\u001b[0;34m(self, x, y, batch_size, epochs, verbose, callbacks, validation_split, validation_data, shuffle, class_weight, sample_weight, initial_epoch, steps_per_epoch, validation_steps, validation_batch_size, validation_freq, max_queue_size, workers, use_multiprocessing)\u001b[0m\n\u001b[1;32m   1433\u001b[0m           \u001b[0mepoch_logs\u001b[0m\u001b[0;34m.\u001b[0m\u001b[0mupdate\u001b[0m\u001b[0;34m(\u001b[0m\u001b[0mval_logs\u001b[0m\u001b[0;34m)\u001b[0m\u001b[0;34m\u001b[0m\u001b[0;34m\u001b[0m\u001b[0m\n\u001b[1;32m   1434\u001b[0m \u001b[0;34m\u001b[0m\u001b[0m\n\u001b[0;32m-> 1435\u001b[0;31m         \u001b[0mcallbacks\u001b[0m\u001b[0;34m.\u001b[0m\u001b[0mon_epoch_end\u001b[0m\u001b[0;34m(\u001b[0m\u001b[0mepoch\u001b[0m\u001b[0;34m,\u001b[0m \u001b[0mepoch_logs\u001b[0m\u001b[0;34m)\u001b[0m\u001b[0;34m\u001b[0m\u001b[0;34m\u001b[0m\u001b[0m\n\u001b[0m\u001b[1;32m   1436\u001b[0m         \u001b[0mtraining_logs\u001b[0m \u001b[0;34m=\u001b[0m \u001b[0mepoch_logs\u001b[0m\u001b[0;34m\u001b[0m\u001b[0;34m\u001b[0m\u001b[0m\n\u001b[1;32m   1437\u001b[0m         \u001b[0;32mif\u001b[0m \u001b[0mself\u001b[0m\u001b[0;34m.\u001b[0m\u001b[0mstop_training\u001b[0m\u001b[0;34m:\u001b[0m\u001b[0;34m\u001b[0m\u001b[0;34m\u001b[0m\u001b[0m\n",
            "\u001b[0;32m/usr/local/lib/python3.7/dist-packages/keras/callbacks.py\u001b[0m in \u001b[0;36mon_epoch_end\u001b[0;34m(self, epoch, logs)\u001b[0m\n\u001b[1;32m    414\u001b[0m     \u001b[0mlogs\u001b[0m \u001b[0;34m=\u001b[0m \u001b[0mself\u001b[0m\u001b[0;34m.\u001b[0m\u001b[0m_process_logs\u001b[0m\u001b[0;34m(\u001b[0m\u001b[0mlogs\u001b[0m\u001b[0;34m)\u001b[0m\u001b[0;34m\u001b[0m\u001b[0;34m\u001b[0m\u001b[0m\n\u001b[1;32m    415\u001b[0m     \u001b[0;32mfor\u001b[0m \u001b[0mcallback\u001b[0m \u001b[0;32min\u001b[0m \u001b[0mself\u001b[0m\u001b[0;34m.\u001b[0m\u001b[0mcallbacks\u001b[0m\u001b[0;34m:\u001b[0m\u001b[0;34m\u001b[0m\u001b[0;34m\u001b[0m\u001b[0m\n\u001b[0;32m--> 416\u001b[0;31m       \u001b[0mcallback\u001b[0m\u001b[0;34m.\u001b[0m\u001b[0mon_epoch_end\u001b[0m\u001b[0;34m(\u001b[0m\u001b[0mepoch\u001b[0m\u001b[0;34m,\u001b[0m \u001b[0mlogs\u001b[0m\u001b[0;34m)\u001b[0m\u001b[0;34m\u001b[0m\u001b[0;34m\u001b[0m\u001b[0m\n\u001b[0m\u001b[1;32m    417\u001b[0m \u001b[0;34m\u001b[0m\u001b[0m\n\u001b[1;32m    418\u001b[0m   \u001b[0;32mdef\u001b[0m \u001b[0mon_train_batch_begin\u001b[0m\u001b[0;34m(\u001b[0m\u001b[0mself\u001b[0m\u001b[0;34m,\u001b[0m \u001b[0mbatch\u001b[0m\u001b[0;34m,\u001b[0m \u001b[0mlogs\u001b[0m\u001b[0;34m=\u001b[0m\u001b[0;32mNone\u001b[0m\u001b[0;34m)\u001b[0m\u001b[0;34m:\u001b[0m\u001b[0;34m\u001b[0m\u001b[0;34m\u001b[0m\u001b[0m\n",
            "\u001b[0;32m/usr/local/lib/python3.7/dist-packages/keras/callbacks.py\u001b[0m in \u001b[0;36mon_epoch_end\u001b[0;34m(self, epoch, logs)\u001b[0m\n\u001b[1;32m   1043\u001b[0m \u001b[0;34m\u001b[0m\u001b[0m\n\u001b[1;32m   1044\u001b[0m   \u001b[0;32mdef\u001b[0m \u001b[0mon_epoch_end\u001b[0m\u001b[0;34m(\u001b[0m\u001b[0mself\u001b[0m\u001b[0;34m,\u001b[0m \u001b[0mepoch\u001b[0m\u001b[0;34m,\u001b[0m \u001b[0mlogs\u001b[0m\u001b[0;34m=\u001b[0m\u001b[0;32mNone\u001b[0m\u001b[0;34m)\u001b[0m\u001b[0;34m:\u001b[0m\u001b[0;34m\u001b[0m\u001b[0;34m\u001b[0m\u001b[0m\n\u001b[0;32m-> 1045\u001b[0;31m     \u001b[0mself\u001b[0m\u001b[0;34m.\u001b[0m\u001b[0m_finalize_progbar\u001b[0m\u001b[0;34m(\u001b[0m\u001b[0mlogs\u001b[0m\u001b[0;34m,\u001b[0m \u001b[0mself\u001b[0m\u001b[0;34m.\u001b[0m\u001b[0m_train_step\u001b[0m\u001b[0;34m)\u001b[0m\u001b[0;34m\u001b[0m\u001b[0;34m\u001b[0m\u001b[0m\n\u001b[0m\u001b[1;32m   1046\u001b[0m \u001b[0;34m\u001b[0m\u001b[0m\n\u001b[1;32m   1047\u001b[0m   \u001b[0;32mdef\u001b[0m \u001b[0mon_test_end\u001b[0m\u001b[0;34m(\u001b[0m\u001b[0mself\u001b[0m\u001b[0;34m,\u001b[0m \u001b[0mlogs\u001b[0m\u001b[0;34m=\u001b[0m\u001b[0;32mNone\u001b[0m\u001b[0;34m)\u001b[0m\u001b[0;34m:\u001b[0m\u001b[0;34m\u001b[0m\u001b[0;34m\u001b[0m\u001b[0m\n",
            "\u001b[0;32m/usr/local/lib/python3.7/dist-packages/keras/callbacks.py\u001b[0m in \u001b[0;36m_finalize_progbar\u001b[0;34m(self, logs, counter)\u001b[0m\n\u001b[1;32m   1116\u001b[0m       \u001b[0mself\u001b[0m\u001b[0;34m.\u001b[0m\u001b[0mtarget\u001b[0m \u001b[0;34m=\u001b[0m \u001b[0mcounter\u001b[0m \u001b[0;32mor\u001b[0m \u001b[0mself\u001b[0m\u001b[0;34m.\u001b[0m\u001b[0mseen\u001b[0m\u001b[0;34m\u001b[0m\u001b[0;34m\u001b[0m\u001b[0m\n\u001b[1;32m   1117\u001b[0m       \u001b[0mself\u001b[0m\u001b[0;34m.\u001b[0m\u001b[0mprogbar\u001b[0m\u001b[0;34m.\u001b[0m\u001b[0mtarget\u001b[0m \u001b[0;34m=\u001b[0m \u001b[0mself\u001b[0m\u001b[0;34m.\u001b[0m\u001b[0mtarget\u001b[0m\u001b[0;34m\u001b[0m\u001b[0;34m\u001b[0m\u001b[0m\n\u001b[0;32m-> 1118\u001b[0;31m     \u001b[0mself\u001b[0m\u001b[0;34m.\u001b[0m\u001b[0mprogbar\u001b[0m\u001b[0;34m.\u001b[0m\u001b[0mupdate\u001b[0m\u001b[0;34m(\u001b[0m\u001b[0mself\u001b[0m\u001b[0;34m.\u001b[0m\u001b[0mtarget\u001b[0m\u001b[0;34m,\u001b[0m \u001b[0mlist\u001b[0m\u001b[0;34m(\u001b[0m\u001b[0mlogs\u001b[0m\u001b[0;34m.\u001b[0m\u001b[0mitems\u001b[0m\u001b[0;34m(\u001b[0m\u001b[0;34m)\u001b[0m\u001b[0;34m)\u001b[0m\u001b[0;34m,\u001b[0m \u001b[0mfinalize\u001b[0m\u001b[0;34m=\u001b[0m\u001b[0;32mTrue\u001b[0m\u001b[0;34m)\u001b[0m\u001b[0;34m\u001b[0m\u001b[0;34m\u001b[0m\u001b[0m\n\u001b[0m\u001b[1;32m   1119\u001b[0m \u001b[0;34m\u001b[0m\u001b[0m\n\u001b[1;32m   1120\u001b[0m \u001b[0;34m\u001b[0m\u001b[0m\n",
            "\u001b[0;32m/usr/local/lib/python3.7/dist-packages/keras/utils/generic_utils.py\u001b[0m in \u001b[0;36mupdate\u001b[0;34m(self, current, values, finalize)\u001b[0m\n\u001b[1;32m    974\u001b[0m \u001b[0;34m\u001b[0m\u001b[0m\n\u001b[1;32m    975\u001b[0m       \u001b[0mmessage\u001b[0m \u001b[0;34m+=\u001b[0m \u001b[0minfo\u001b[0m\u001b[0;34m\u001b[0m\u001b[0;34m\u001b[0m\u001b[0m\n\u001b[0;32m--> 976\u001b[0;31m       \u001b[0mio_utils\u001b[0m\u001b[0;34m.\u001b[0m\u001b[0mprint_msg\u001b[0m\u001b[0;34m(\u001b[0m\u001b[0mmessage\u001b[0m\u001b[0;34m,\u001b[0m \u001b[0mline_break\u001b[0m\u001b[0;34m=\u001b[0m\u001b[0;32mFalse\u001b[0m\u001b[0;34m)\u001b[0m\u001b[0;34m\u001b[0m\u001b[0;34m\u001b[0m\u001b[0m\n\u001b[0m\u001b[1;32m    977\u001b[0m       \u001b[0mmessage\u001b[0m \u001b[0;34m=\u001b[0m \u001b[0;34m''\u001b[0m\u001b[0;34m\u001b[0m\u001b[0;34m\u001b[0m\u001b[0m\n\u001b[1;32m    978\u001b[0m \u001b[0;34m\u001b[0m\u001b[0m\n",
            "\u001b[0;32m/usr/local/lib/python3.7/dist-packages/keras/utils/io_utils.py\u001b[0m in \u001b[0;36mprint_msg\u001b[0;34m(message, line_break)\u001b[0m\n\u001b[1;32m     36\u001b[0m     \u001b[0;32melse\u001b[0m\u001b[0;34m:\u001b[0m\u001b[0;34m\u001b[0m\u001b[0;34m\u001b[0m\u001b[0m\n\u001b[1;32m     37\u001b[0m       \u001b[0msys\u001b[0m\u001b[0;34m.\u001b[0m\u001b[0mstdout\u001b[0m\u001b[0;34m.\u001b[0m\u001b[0mwrite\u001b[0m\u001b[0;34m(\u001b[0m\u001b[0mmessage\u001b[0m\u001b[0;34m)\u001b[0m\u001b[0;34m\u001b[0m\u001b[0;34m\u001b[0m\u001b[0m\n\u001b[0;32m---> 38\u001b[0;31m     \u001b[0msys\u001b[0m\u001b[0;34m.\u001b[0m\u001b[0mstdout\u001b[0m\u001b[0;34m.\u001b[0m\u001b[0mflush\u001b[0m\u001b[0;34m(\u001b[0m\u001b[0;34m)\u001b[0m\u001b[0;34m\u001b[0m\u001b[0;34m\u001b[0m\u001b[0m\n\u001b[0m\u001b[1;32m     39\u001b[0m \u001b[0;34m\u001b[0m\u001b[0m\n\u001b[1;32m     40\u001b[0m \u001b[0;34m\u001b[0m\u001b[0m\n",
            "\u001b[0;32m/usr/local/lib/python3.7/dist-packages/ipykernel/iostream.py\u001b[0m in \u001b[0;36mflush\u001b[0;34m(self)\u001b[0m\n\u001b[1;32m    347\u001b[0m                 \u001b[0mself\u001b[0m\u001b[0;34m.\u001b[0m\u001b[0mpub_thread\u001b[0m\u001b[0;34m.\u001b[0m\u001b[0mschedule\u001b[0m\u001b[0;34m(\u001b[0m\u001b[0mevt\u001b[0m\u001b[0;34m.\u001b[0m\u001b[0mset\u001b[0m\u001b[0;34m)\u001b[0m\u001b[0;34m\u001b[0m\u001b[0;34m\u001b[0m\u001b[0m\n\u001b[1;32m    348\u001b[0m                 \u001b[0;31m# and give a timeout to avoid\u001b[0m\u001b[0;34m\u001b[0m\u001b[0;34m\u001b[0m\u001b[0;34m\u001b[0m\u001b[0m\n\u001b[0;32m--> 349\u001b[0;31m                 \u001b[0;32mif\u001b[0m \u001b[0;32mnot\u001b[0m \u001b[0mevt\u001b[0m\u001b[0;34m.\u001b[0m\u001b[0mwait\u001b[0m\u001b[0;34m(\u001b[0m\u001b[0mself\u001b[0m\u001b[0;34m.\u001b[0m\u001b[0mflush_timeout\u001b[0m\u001b[0;34m)\u001b[0m\u001b[0;34m:\u001b[0m\u001b[0;34m\u001b[0m\u001b[0;34m\u001b[0m\u001b[0m\n\u001b[0m\u001b[1;32m    350\u001b[0m                     \u001b[0;31m# write directly to __stderr__ instead of warning because\u001b[0m\u001b[0;34m\u001b[0m\u001b[0;34m\u001b[0m\u001b[0;34m\u001b[0m\u001b[0m\n\u001b[1;32m    351\u001b[0m                     \u001b[0;31m# if this is happening sys.stderr may be the problem.\u001b[0m\u001b[0;34m\u001b[0m\u001b[0;34m\u001b[0m\u001b[0;34m\u001b[0m\u001b[0m\n",
            "\u001b[0;32m/usr/lib/python3.7/threading.py\u001b[0m in \u001b[0;36mwait\u001b[0;34m(self, timeout)\u001b[0m\n\u001b[1;32m    550\u001b[0m             \u001b[0msignaled\u001b[0m \u001b[0;34m=\u001b[0m \u001b[0mself\u001b[0m\u001b[0;34m.\u001b[0m\u001b[0m_flag\u001b[0m\u001b[0;34m\u001b[0m\u001b[0;34m\u001b[0m\u001b[0m\n\u001b[1;32m    551\u001b[0m             \u001b[0;32mif\u001b[0m \u001b[0;32mnot\u001b[0m \u001b[0msignaled\u001b[0m\u001b[0;34m:\u001b[0m\u001b[0;34m\u001b[0m\u001b[0;34m\u001b[0m\u001b[0m\n\u001b[0;32m--> 552\u001b[0;31m                 \u001b[0msignaled\u001b[0m \u001b[0;34m=\u001b[0m \u001b[0mself\u001b[0m\u001b[0;34m.\u001b[0m\u001b[0m_cond\u001b[0m\u001b[0;34m.\u001b[0m\u001b[0mwait\u001b[0m\u001b[0;34m(\u001b[0m\u001b[0mtimeout\u001b[0m\u001b[0;34m)\u001b[0m\u001b[0;34m\u001b[0m\u001b[0;34m\u001b[0m\u001b[0m\n\u001b[0m\u001b[1;32m    553\u001b[0m             \u001b[0;32mreturn\u001b[0m \u001b[0msignaled\u001b[0m\u001b[0;34m\u001b[0m\u001b[0;34m\u001b[0m\u001b[0m\n\u001b[1;32m    554\u001b[0m \u001b[0;34m\u001b[0m\u001b[0m\n",
            "\u001b[0;32m/usr/lib/python3.7/threading.py\u001b[0m in \u001b[0;36mwait\u001b[0;34m(self, timeout)\u001b[0m\n\u001b[1;32m    298\u001b[0m             \u001b[0;32melse\u001b[0m\u001b[0;34m:\u001b[0m\u001b[0;34m\u001b[0m\u001b[0;34m\u001b[0m\u001b[0m\n\u001b[1;32m    299\u001b[0m                 \u001b[0;32mif\u001b[0m \u001b[0mtimeout\u001b[0m \u001b[0;34m>\u001b[0m \u001b[0;36m0\u001b[0m\u001b[0;34m:\u001b[0m\u001b[0;34m\u001b[0m\u001b[0;34m\u001b[0m\u001b[0m\n\u001b[0;32m--> 300\u001b[0;31m                     \u001b[0mgotit\u001b[0m \u001b[0;34m=\u001b[0m \u001b[0mwaiter\u001b[0m\u001b[0;34m.\u001b[0m\u001b[0macquire\u001b[0m\u001b[0;34m(\u001b[0m\u001b[0;32mTrue\u001b[0m\u001b[0;34m,\u001b[0m \u001b[0mtimeout\u001b[0m\u001b[0;34m)\u001b[0m\u001b[0;34m\u001b[0m\u001b[0;34m\u001b[0m\u001b[0m\n\u001b[0m\u001b[1;32m    301\u001b[0m                 \u001b[0;32melse\u001b[0m\u001b[0;34m:\u001b[0m\u001b[0;34m\u001b[0m\u001b[0;34m\u001b[0m\u001b[0m\n\u001b[1;32m    302\u001b[0m                     \u001b[0mgotit\u001b[0m \u001b[0;34m=\u001b[0m \u001b[0mwaiter\u001b[0m\u001b[0;34m.\u001b[0m\u001b[0macquire\u001b[0m\u001b[0;34m(\u001b[0m\u001b[0;32mFalse\u001b[0m\u001b[0;34m)\u001b[0m\u001b[0;34m\u001b[0m\u001b[0;34m\u001b[0m\u001b[0m\n",
            "\u001b[0;31mKeyboardInterrupt\u001b[0m: "
          ]
        }
      ]
    },
    {
      "cell_type": "markdown",
      "source": [
        "Now the model is trained. Make a prediction test ( with 1 value, the X[0] ) to present the format of the input and the format of the predictions."
      ],
      "metadata": {
        "id": "lIDV-D1eHP8S"
      }
    },
    {
      "cell_type": "code",
      "metadata": {
        "colab": {
          "base_uri": "https://localhost:8080/"
        },
        "id": "64_6BC24dx29",
        "outputId": "81ea2997-e8a7-4bd6-a8f4-4a40fa51ec4e"
      },
      "source": [
        "test = X_data[0].reshape(1,30,9)\n",
        "test.shape"
      ],
      "execution_count": null,
      "outputs": [
        {
          "output_type": "execute_result",
          "data": {
            "text/plain": [
              "(1, 30, 9)"
            ]
          },
          "metadata": {},
          "execution_count": 56
        }
      ]
    },
    {
      "cell_type": "code",
      "metadata": {
        "colab": {
          "base_uri": "https://localhost:8080/"
        },
        "id": "KYuMW69Odx74",
        "outputId": "7f73584a-2500-4786-ebbe-711a877693ac"
      },
      "source": [
        "test"
      ],
      "execution_count": null,
      "outputs": [
        {
          "output_type": "execute_result",
          "data": {
            "text/plain": [
              "array([[[1, 0, 0, 0, 0, 0, 0, 0, 0],\n",
              "        [1, 0, 0, 0, 0, 0, 0, 0, 0],\n",
              "        [1, 0, 0, 0, 0, 0, 0, 0, 0],\n",
              "        [1, 0, 0, 0, 0, 0, 0, 0, 0],\n",
              "        [1, 0, 0, 0, 0, 0, 0, 0, 0],\n",
              "        [1, 0, 0, 0, 0, 0, 0, 0, 0],\n",
              "        [1, 0, 0, 0, 0, 0, 0, 0, 0],\n",
              "        [1, 0, 0, 0, 0, 0, 0, 0, 0],\n",
              "        [1, 0, 0, 0, 0, 0, 0, 0, 0],\n",
              "        [1, 0, 0, 0, 0, 0, 0, 0, 0],\n",
              "        [1, 0, 0, 0, 0, 0, 0, 0, 0],\n",
              "        [1, 0, 0, 0, 0, 0, 0, 0, 0],\n",
              "        [1, 0, 0, 0, 0, 0, 0, 0, 0],\n",
              "        [1, 0, 0, 0, 0, 0, 0, 0, 0],\n",
              "        [1, 0, 0, 0, 0, 0, 0, 0, 0],\n",
              "        [1, 0, 0, 0, 0, 0, 0, 0, 0],\n",
              "        [1, 0, 0, 0, 0, 0, 0, 0, 0],\n",
              "        [1, 0, 0, 0, 0, 0, 0, 0, 0],\n",
              "        [1, 0, 0, 0, 0, 0, 0, 0, 0],\n",
              "        [1, 0, 0, 0, 0, 0, 0, 0, 1],\n",
              "        [1, 0, 0, 0, 0, 0, 0, 0, 1],\n",
              "        [1, 0, 0, 0, 1, 0, 0, 0, 1],\n",
              "        [1, 0, 0, 0, 1, 0, 0, 0, 1],\n",
              "        [1, 0, 0, 0, 1, 0, 0, 0, 1],\n",
              "        [1, 0, 0, 0, 1, 0, 0, 0, 1],\n",
              "        [1, 0, 0, 0, 1, 0, 0, 0, 1],\n",
              "        [1, 0, 0, 0, 1, 0, 0, 0, 1],\n",
              "        [1, 0, 0, 0, 1, 0, 0, 0, 1],\n",
              "        [1, 0, 0, 0, 1, 0, 0, 0, 0],\n",
              "        [1, 0, 0, 0, 1, 0, 0, 0, 0]]])"
            ]
          },
          "metadata": {},
          "execution_count": 58
        }
      ]
    },
    {
      "cell_type": "code",
      "metadata": {
        "colab": {
          "base_uri": "https://localhost:8080/"
        },
        "id": "1nm68QPJdx5l",
        "outputId": "b149a5c2-24b9-4b2c-d2df-4f64dee21052"
      },
      "source": [
        "model.predict(test)"
      ],
      "execution_count": null,
      "outputs": [
        {
          "output_type": "execute_result",
          "data": {
            "text/plain": [
              "array([[ 9.93981957e-01, -2.08920203e-04,  4.01371717e-03,\n",
              "         6.17049634e-03,  9.96633291e-01, -1.66730577e-04,\n",
              "        -6.78896904e-04, -1.14658615e-04, -2.58818269e-03]], dtype=float32)"
            ]
          },
          "metadata": {},
          "execution_count": 57
        }
      ]
    },
    {
      "cell_type": "markdown",
      "source": [
        "# Predictions - Evaluation"
      ],
      "metadata": {
        "id": "ia9HkKkKHv7d"
      }
    },
    {
      "cell_type": "markdown",
      "source": [
        "## Training Evaluation\n",
        "\n",
        "We load the (same) model from the saved HDF5 file in our repository. We begin by evaluating the model on the training - augmented data."
      ],
      "metadata": {
        "id": "K4lSX1KStJIM"
      }
    },
    {
      "cell_type": "code",
      "source": [
        "from keras.models import load_model"
      ],
      "metadata": {
        "id": "91zj_tfxnDeW"
      },
      "execution_count": null,
      "outputs": []
    },
    {
      "cell_type": "code",
      "source": [
        "model = load_model('app_aware_LSTM_weights_with_val_loss.best.hdf5')"
      ],
      "metadata": {
        "id": "Cp5Oh5dKnKiO"
      },
      "execution_count": null,
      "outputs": []
    },
    {
      "cell_type": "code",
      "source": [
        "X_data.shape"
      ],
      "metadata": {
        "colab": {
          "base_uri": "https://localhost:8080/"
        },
        "id": "iTApwpxatPFW",
        "outputId": "e917bc79-8def-4581-c12a-6ce890fe9b41"
      },
      "execution_count": null,
      "outputs": [
        {
          "output_type": "execute_result",
          "data": {
            "text/plain": [
              "(5276, 30, 9)"
            ]
          },
          "metadata": {},
          "execution_count": 43
        }
      ]
    },
    {
      "cell_type": "code",
      "source": [
        "yhat_training = model.predict(X_data)"
      ],
      "metadata": {
        "id": "CvR-bjiEoT8Q"
      },
      "execution_count": null,
      "outputs": []
    },
    {
      "cell_type": "code",
      "source": [
        "from sklearn.metrics import mean_squared_error\n",
        "from sklearn.metrics import mean_absolute_error\n",
        "\n",
        "rms = mean_squared_error(y_data, yhat_training)\n",
        "print('RMSE training',rms)\n",
        "\n",
        "mae = mean_absolute_error(y_data, yhat_training)\n",
        "print('MAE: training',mae)"
      ],
      "metadata": {
        "colab": {
          "base_uri": "https://localhost:8080/"
        },
        "id": "35Q2j4Z7nDhQ",
        "outputId": "b301a515-1367-434d-ae3c-2976d27b1713"
      },
      "execution_count": null,
      "outputs": [
        {
          "output_type": "stream",
          "name": "stdout",
          "text": [
            "RMSE training 0.002514107324999888\n",
            "MAE: training 0.018280894814327965\n"
          ]
        }
      ]
    },
    {
      "cell_type": "markdown",
      "source": [
        "In our algorithm we use the *round()* function to round the predictions."
      ],
      "metadata": {
        "id": "HLcvfhAUIL9i"
      }
    },
    {
      "cell_type": "code",
      "metadata": {
        "colab": {
          "base_uri": "https://localhost:8080/"
        },
        "id": "BESUo3Bybn6f",
        "outputId": "8fbbe249-ca72-45bf-b446-e08dde85f176"
      },
      "source": [
        "print(yhat[100])\n",
        "print(y_data[100])"
      ],
      "execution_count": null,
      "outputs": [
        {
          "output_type": "stream",
          "name": "stdout",
          "text": [
            "[ 6.5811425e-03 -4.0366774e-04  1.0098476e+00  1.0056287e+00\n",
            "  3.9668232e-03 -1.3133387e-04 -1.2566149e-03 -6.3567958e-04\n",
            "  9.9916881e-01]\n",
            "[0. 0. 1. 1. 0. 0. 0. 0. 1.]\n"
          ]
        }
      ]
    },
    {
      "cell_type": "code",
      "metadata": {
        "colab": {
          "base_uri": "https://localhost:8080/"
        },
        "id": "PXzBd7peePh8",
        "outputId": "c2b1841f-46f9-4875-c422-e8b8e7309c94"
      },
      "source": [
        "for i in yhat[100]:\n",
        "  print(round(i))"
      ],
      "execution_count": null,
      "outputs": [
        {
          "output_type": "stream",
          "name": "stdout",
          "text": [
            "0\n",
            "0\n",
            "1\n",
            "1\n",
            "0\n",
            "0\n",
            "0\n",
            "0\n",
            "1\n"
          ]
        }
      ]
    },
    {
      "cell_type": "code",
      "metadata": {
        "id": "VdI1DQwpkPmw"
      },
      "source": [
        ""
      ],
      "execution_count": null,
      "outputs": []
    },
    {
      "cell_type": "markdown",
      "source": [
        "## Testing Evaluation"
      ],
      "metadata": {
        "id": "v1bDntp9t8N5"
      }
    },
    {
      "cell_type": "markdown",
      "source": [
        "Now, use the validation X data (X-val) from the basic non-augmented scenario to make predictions. Then evaluate the model utilizing the MAE, and RMSE metrics. "
      ],
      "metadata": {
        "id": "JrbBUK0sKhKl"
      }
    },
    {
      "cell_type": "code",
      "source": [
        "yhat_testing = model.predict(X_val)"
      ],
      "metadata": {
        "id": "QTMJqeoxpPw-"
      },
      "execution_count": null,
      "outputs": []
    },
    {
      "cell_type": "code",
      "source": [
        "rms = mean_squared_error(y_val, yhat_testing)\n",
        "print('RMSE testing ',rms)\n",
        "\n",
        "mae = mean_absolute_error(y_val, yhat_testing)\n",
        "print('MAE: testing ',mae)"
      ],
      "metadata": {
        "colab": {
          "base_uri": "https://localhost:8080/"
        },
        "id": "xhmeNbYauAJY",
        "outputId": "7f8c2011-470e-4ae8-96e0-3d64917f15c7"
      },
      "execution_count": null,
      "outputs": [
        {
          "output_type": "stream",
          "name": "stdout",
          "text": [
            "RMSE testing  0.004724671100021649\n",
            "MAE: testing  0.022024084697091245\n"
          ]
        }
      ]
    },
    {
      "cell_type": "code",
      "source": [
        ""
      ],
      "metadata": {
        "id": "kOub26uuuIUC"
      },
      "execution_count": null,
      "outputs": []
    }
  ]
}
{
 "cells": [
  {
   "cell_type": "code",
   "execution_count": 5,
   "id": "92675257",
   "metadata": {},
   "outputs": [],
   "source": [
    "import os"
   ]
  },
  {
   "cell_type": "markdown",
   "id": "bfa5c2ca",
   "metadata": {},
   "source": [
    "# Read Files"
   ]
  },
  {
   "cell_type": "code",
   "execution_count": 23,
   "id": "0897ac40",
   "metadata": {},
   "outputs": [],
   "source": [
    "from os import walk\n",
    "\n",
    "mypath = 'binary/binary'\n",
    "\n",
    "f = []\n",
    "for (dirpath, dirnames, filenames) in walk(mypath):\n",
    "    f.extend(filenames)\n",
    "    break"
   ]
  },
  {
   "cell_type": "markdown",
   "id": "b64fb7a8",
   "metadata": {},
   "source": [
    "# Count Length"
   ]
  },
  {
   "cell_type": "code",
   "execution_count": 35,
   "id": "fb7cb23b",
   "metadata": {},
   "outputs": [],
   "source": [
    "# Read Fileses_lens = []\n",
    "\n",
    "for file in filenames:\n",
    "    #print(mypath +'/' + file)\n",
    "    \n",
    "    curr_file = open(mypath +'//' + file)\n",
    "    \n",
    "    # analyze file\n",
    "    len_line = len(curr_file.readlines())\n",
    "\n",
    "    \n",
    "        \n",
    "        \n",
    "    files_lens.append(len_line)"
   ]
  },
  {
   "cell_type": "code",
   "execution_count": 44,
   "id": "2c3a6dc2",
   "metadata": {},
   "outputs": [
    {
     "data": {
      "image/png": "[encoded data removed]",
      "text/plain": [
       "<Figure size 432x288 with 1 Axes>"
      ]
     },
     "metadata": {
      "needs_background": "light"
     },
     "output_type": "display_data"
    }
   ],
   "source": [
    "import matplotlib.pyplot as plt\n",
    "\n",
    "plot = plt.hist(files_lens, bins=10)"
   ]
  },
  {
   "cell_type": "markdown",
   "id": "e4c2a42e",
   "metadata": {},
   "source": [
    "# merge"
   ]
  },
  {
   "cell_type": "code",
   "execution_count": null,
   "id": "69de3979",
   "metadata": {},
   "outputs": [],
   "source": []
  }
 ],
 "metadata": {
  "kernelspec": {
   "display_name": "Python 3 (ipykernel)",
   "language": "python",
   "name": "python3"
  },
  "language_info": {
   "codemirror_mode": {
    "name": "ipython",
    "version": 3
   },
   "file_extension": ".py",
   "mimetype": "text/x-python",
   "name": "python",
   "nbconvert_exporter": "python",
   "pygments_lexer": "ipython3",
   "version": "3.8.12"
  }
 },
 "nbformat": 4,
 "nbformat_minor": 5
}

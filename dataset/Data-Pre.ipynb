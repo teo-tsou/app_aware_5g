{
 "cells": [
  {
   "cell_type": "code",
   "execution_count": 9,
   "id": "e84bb9aa",
   "metadata": {},
   "outputs": [],
   "source": [
    "import pandas as pd"
   ]
  },
  {
   "cell_type": "code",
   "execution_count": 2,
   "id": "ce733b60",
   "metadata": {},
   "outputs": [],
   "source": [
    "df = pd.read_csv(\"traffic.csv\")"
   ]
  },
  {
   "cell_type": "code",
   "execution_count": 3,
   "id": "25cc65b0",
   "metadata": {},
   "outputs": [
    {
     "name": "stdout",
     "output_type": "stream",
     "text": [
      "UDP     3598\n",
      "SIP      596\n",
      "HTTP     110\n",
      "Name: Protocol, dtype: int64\n"
     ]
    }
   ],
   "source": [
    "proto_counts = df['Protocol'].value_counts()\n",
    "print(proto_counts)"
   ]
  },
  {
   "cell_type": "code",
   "execution_count": 4,
   "id": "522458e0",
   "metadata": {},
   "outputs": [
    {
     "data": {
      "text/html": [
       "<div>\n",
       "<style scoped>\n",
       "    .dataframe tbody tr th:only-of-type {\n",
       "        vertical-align: middle;\n",
       "    }\n",
       "\n",
       "    .dataframe tbody tr th {\n",
       "        vertical-align: top;\n",
       "    }\n",
       "\n",
       "    .dataframe thead th {\n",
       "        text-align: right;\n",
       "    }\n",
       "</style>\n",
       "<table border=\"1\" class=\"dataframe\">\n",
       "  <thead>\n",
       "    <tr style=\"text-align: right;\">\n",
       "      <th></th>\n",
       "      <th>Packet_Num</th>\n",
       "      <th>Time</th>\n",
       "      <th>Source</th>\n",
       "      <th>Destination</th>\n",
       "      <th>Protocol</th>\n",
       "      <th>Length</th>\n",
       "    </tr>\n",
       "  </thead>\n",
       "  <tbody>\n",
       "    <tr>\n",
       "      <th>0</th>\n",
       "      <td>147</td>\n",
       "      <td>33.320161</td>\n",
       "      <td>192.168.20.2</td>\n",
       "      <td>192.168.3.101</td>\n",
       "      <td>UDP</td>\n",
       "      <td>64</td>\n",
       "    </tr>\n",
       "    <tr>\n",
       "      <th>1</th>\n",
       "      <td>178</td>\n",
       "      <td>33.952039</td>\n",
       "      <td>192.168.20.2</td>\n",
       "      <td>192.168.3.101</td>\n",
       "      <td>UDP</td>\n",
       "      <td>64</td>\n",
       "    </tr>\n",
       "    <tr>\n",
       "      <th>2</th>\n",
       "      <td>186</td>\n",
       "      <td>34.208800</td>\n",
       "      <td>192.168.3.101</td>\n",
       "      <td>192.168.20.2</td>\n",
       "      <td>UDP</td>\n",
       "      <td>112</td>\n",
       "    </tr>\n",
       "    <tr>\n",
       "      <th>3</th>\n",
       "      <td>187</td>\n",
       "      <td>34.211274</td>\n",
       "      <td>192.168.3.101</td>\n",
       "      <td>192.168.20.2</td>\n",
       "      <td>UDP</td>\n",
       "      <td>300</td>\n",
       "    </tr>\n",
       "    <tr>\n",
       "      <th>4</th>\n",
       "      <td>188</td>\n",
       "      <td>34.213375</td>\n",
       "      <td>192.168.3.101</td>\n",
       "      <td>192.168.20.2</td>\n",
       "      <td>UDP</td>\n",
       "      <td>1150</td>\n",
       "    </tr>\n",
       "    <tr>\n",
       "      <th>...</th>\n",
       "      <td>...</td>\n",
       "      <td>...</td>\n",
       "      <td>...</td>\n",
       "      <td>...</td>\n",
       "      <td>...</td>\n",
       "      <td>...</td>\n",
       "    </tr>\n",
       "    <tr>\n",
       "      <th>4299</th>\n",
       "      <td>5851</td>\n",
       "      <td>50.932083</td>\n",
       "      <td>192.168.20.2</td>\n",
       "      <td>192.168.3.101</td>\n",
       "      <td>UDP</td>\n",
       "      <td>92</td>\n",
       "    </tr>\n",
       "    <tr>\n",
       "      <th>4300</th>\n",
       "      <td>5852</td>\n",
       "      <td>50.933567</td>\n",
       "      <td>192.168.3.101</td>\n",
       "      <td>192.168.20.2</td>\n",
       "      <td>UDP</td>\n",
       "      <td>1180</td>\n",
       "    </tr>\n",
       "    <tr>\n",
       "      <th>4301</th>\n",
       "      <td>5855</td>\n",
       "      <td>50.979146</td>\n",
       "      <td>192.168.3.101</td>\n",
       "      <td>192.168.20.2</td>\n",
       "      <td>UDP</td>\n",
       "      <td>1159</td>\n",
       "    </tr>\n",
       "    <tr>\n",
       "      <th>4302</th>\n",
       "      <td>5856</td>\n",
       "      <td>50.979177</td>\n",
       "      <td>192.168.3.101</td>\n",
       "      <td>192.168.20.2</td>\n",
       "      <td>UDP</td>\n",
       "      <td>1159</td>\n",
       "    </tr>\n",
       "    <tr>\n",
       "      <th>4303</th>\n",
       "      <td>5857</td>\n",
       "      <td>50.979194</td>\n",
       "      <td>192.168.3.101</td>\n",
       "      <td>192.168.20.2</td>\n",
       "      <td>UDP</td>\n",
       "      <td>1159</td>\n",
       "    </tr>\n",
       "  </tbody>\n",
       "</table>\n",
       "<p>4304 rows × 6 columns</p>\n",
       "</div>"
      ],
      "text/plain": [
       "      Packet_Num       Time         Source    Destination Protocol  Length\n",
       "0            147  33.320161   192.168.20.2  192.168.3.101      UDP      64\n",
       "1            178  33.952039   192.168.20.2  192.168.3.101      UDP      64\n",
       "2            186  34.208800  192.168.3.101   192.168.20.2      UDP     112\n",
       "3            187  34.211274  192.168.3.101   192.168.20.2      UDP     300\n",
       "4            188  34.213375  192.168.3.101   192.168.20.2      UDP    1150\n",
       "...          ...        ...            ...            ...      ...     ...\n",
       "4299        5851  50.932083   192.168.20.2  192.168.3.101      UDP      92\n",
       "4300        5852  50.933567  192.168.3.101   192.168.20.2      UDP    1180\n",
       "4301        5855  50.979146  192.168.3.101   192.168.20.2      UDP    1159\n",
       "4302        5856  50.979177  192.168.3.101   192.168.20.2      UDP    1159\n",
       "4303        5857  50.979194  192.168.3.101   192.168.20.2      UDP    1159\n",
       "\n",
       "[4304 rows x 6 columns]"
      ]
     },
     "execution_count": 4,
     "metadata": {},
     "output_type": "execute_result"
    }
   ],
   "source": [
    "df"
   ]
  },
  {
   "cell_type": "code",
   "execution_count": 5,
   "id": "ea486063",
   "metadata": {},
   "outputs": [],
   "source": [
    "new_df = pd.DataFrame(columns=['Time','UE','App'])\n",
    "\n",
    "for i, row in df.iterrows():\n",
    "    \n",
    "    \n",
    "    if '192.168.3.101' in row['Source'] or '192.168.3.101' in row['Destination']:\n",
    "        app = 'web-rtc'\n",
    "    \n",
    "    if '192.168.3.102' in row['Source'] or '192.168.3.102' in row['Destination']:\n",
    "        app = 'sipp'\n",
    "        \n",
    "    if '192.168.3.103' in row['Source'] or '192.168.3.103' in row['Destination']:\n",
    "        app = 'web-server'\n",
    "        \n",
    "    if '192.168.20.2' in row['Source'] or '192.168.20.2' in row['Destination']:\n",
    "        ue = '1'\n",
    "        \n",
    "    if '192.168.20.3' in row['Source'] or '192.168.20.3' in row['Destination']:\n",
    "        ue = '2'\n",
    "        \n",
    "    if '192.168.20.4' in row['Source'] or '192.168.20.4' in row['Destination']:\n",
    "        ue = '3'\n",
    "       \n",
    "    data = {'Time': [row['Time']], 'UE':[ue], 'App':[app]}\n",
    "    temp_df = pd.DataFrame.from_dict(data)\n",
    "    \n",
    "    \n",
    "    new_df = new_df.append(temp_df, ignore_index=True)"
   ]
  },
  {
   "cell_type": "code",
   "execution_count": 6,
   "id": "38e90323",
   "metadata": {},
   "outputs": [
    {
     "data": {
      "text/html": [
       "<div>\n",
       "<style scoped>\n",
       "    .dataframe tbody tr th:only-of-type {\n",
       "        vertical-align: middle;\n",
       "    }\n",
       "\n",
       "    .dataframe tbody tr th {\n",
       "        vertical-align: top;\n",
       "    }\n",
       "\n",
       "    .dataframe thead th {\n",
       "        text-align: right;\n",
       "    }\n",
       "</style>\n",
       "<table border=\"1\" class=\"dataframe\">\n",
       "  <thead>\n",
       "    <tr style=\"text-align: right;\">\n",
       "      <th></th>\n",
       "      <th>Time</th>\n",
       "      <th>UE</th>\n",
       "      <th>App</th>\n",
       "    </tr>\n",
       "  </thead>\n",
       "  <tbody>\n",
       "    <tr>\n",
       "      <th>32</th>\n",
       "      <td>34.741746</td>\n",
       "      <td>2</td>\n",
       "      <td>sipp</td>\n",
       "    </tr>\n",
       "    <tr>\n",
       "      <th>33</th>\n",
       "      <td>34.771299</td>\n",
       "      <td>2</td>\n",
       "      <td>sipp</td>\n",
       "    </tr>\n",
       "    <tr>\n",
       "      <th>34</th>\n",
       "      <td>34.771317</td>\n",
       "      <td>2</td>\n",
       "      <td>sipp</td>\n",
       "    </tr>\n",
       "    <tr>\n",
       "      <th>35</th>\n",
       "      <td>34.771612</td>\n",
       "      <td>2</td>\n",
       "      <td>sipp</td>\n",
       "    </tr>\n",
       "    <tr>\n",
       "      <th>36</th>\n",
       "      <td>34.833435</td>\n",
       "      <td>2</td>\n",
       "      <td>sipp</td>\n",
       "    </tr>\n",
       "    <tr>\n",
       "      <th>...</th>\n",
       "      <td>...</td>\n",
       "      <td>...</td>\n",
       "      <td>...</td>\n",
       "    </tr>\n",
       "    <tr>\n",
       "      <th>3858</th>\n",
       "      <td>49.468581</td>\n",
       "      <td>2</td>\n",
       "      <td>sipp</td>\n",
       "    </tr>\n",
       "    <tr>\n",
       "      <th>3878</th>\n",
       "      <td>49.541626</td>\n",
       "      <td>2</td>\n",
       "      <td>sipp</td>\n",
       "    </tr>\n",
       "    <tr>\n",
       "      <th>3891</th>\n",
       "      <td>49.571315</td>\n",
       "      <td>2</td>\n",
       "      <td>sipp</td>\n",
       "    </tr>\n",
       "    <tr>\n",
       "      <th>3892</th>\n",
       "      <td>49.571334</td>\n",
       "      <td>2</td>\n",
       "      <td>sipp</td>\n",
       "    </tr>\n",
       "    <tr>\n",
       "      <th>3895</th>\n",
       "      <td>49.571566</td>\n",
       "      <td>2</td>\n",
       "      <td>sipp</td>\n",
       "    </tr>\n",
       "  </tbody>\n",
       "</table>\n",
       "<p>596 rows × 3 columns</p>\n",
       "</div>"
      ],
      "text/plain": [
       "           Time UE   App\n",
       "32    34.741746  2  sipp\n",
       "33    34.771299  2  sipp\n",
       "34    34.771317  2  sipp\n",
       "35    34.771612  2  sipp\n",
       "36    34.833435  2  sipp\n",
       "...         ... ..   ...\n",
       "3858  49.468581  2  sipp\n",
       "3878  49.541626  2  sipp\n",
       "3891  49.571315  2  sipp\n",
       "3892  49.571334  2  sipp\n",
       "3895  49.571566  2  sipp\n",
       "\n",
       "[596 rows x 3 columns]"
      ]
     },
     "execution_count": 6,
     "metadata": {},
     "output_type": "execute_result"
    }
   ],
   "source": [
    "new_df.loc[ new_df['App'] =='sipp']"
   ]
  },
  {
   "cell_type": "code",
   "execution_count": 7,
   "id": "ffae3250",
   "metadata": {},
   "outputs": [],
   "source": [
    "new_df.to_csv(\"ue-app_time.csv\",index=False)"
   ]
  },
  {
   "cell_type": "code",
   "execution_count": 10,
   "id": "da569a3a",
   "metadata": {},
   "outputs": [],
   "source": [
    "new_df = pd.read_csv('ue-app_time.csv')"
   ]
  },
  {
   "cell_type": "code",
   "execution_count": 11,
   "id": "c6fdd8c0",
   "metadata": {},
   "outputs": [
    {
     "data": {
      "text/html": [
       "<div>\n",
       "<style scoped>\n",
       "    .dataframe tbody tr th:only-of-type {\n",
       "        vertical-align: middle;\n",
       "    }\n",
       "\n",
       "    .dataframe tbody tr th {\n",
       "        vertical-align: top;\n",
       "    }\n",
       "\n",
       "    .dataframe thead th {\n",
       "        text-align: right;\n",
       "    }\n",
       "</style>\n",
       "<table border=\"1\" class=\"dataframe\">\n",
       "  <thead>\n",
       "    <tr style=\"text-align: right;\">\n",
       "      <th></th>\n",
       "      <th>Time</th>\n",
       "      <th>UE</th>\n",
       "      <th>App</th>\n",
       "    </tr>\n",
       "  </thead>\n",
       "  <tbody>\n",
       "    <tr>\n",
       "      <th>0</th>\n",
       "      <td>33.320161</td>\n",
       "      <td>1</td>\n",
       "      <td>web-rtc</td>\n",
       "    </tr>\n",
       "    <tr>\n",
       "      <th>1</th>\n",
       "      <td>33.952039</td>\n",
       "      <td>1</td>\n",
       "      <td>web-rtc</td>\n",
       "    </tr>\n",
       "    <tr>\n",
       "      <th>2</th>\n",
       "      <td>34.208800</td>\n",
       "      <td>1</td>\n",
       "      <td>web-rtc</td>\n",
       "    </tr>\n",
       "    <tr>\n",
       "      <th>3</th>\n",
       "      <td>34.211274</td>\n",
       "      <td>1</td>\n",
       "      <td>web-rtc</td>\n",
       "    </tr>\n",
       "    <tr>\n",
       "      <th>4</th>\n",
       "      <td>34.213375</td>\n",
       "      <td>1</td>\n",
       "      <td>web-rtc</td>\n",
       "    </tr>\n",
       "    <tr>\n",
       "      <th>...</th>\n",
       "      <td>...</td>\n",
       "      <td>...</td>\n",
       "      <td>...</td>\n",
       "    </tr>\n",
       "    <tr>\n",
       "      <th>4299</th>\n",
       "      <td>50.932083</td>\n",
       "      <td>1</td>\n",
       "      <td>web-rtc</td>\n",
       "    </tr>\n",
       "    <tr>\n",
       "      <th>4300</th>\n",
       "      <td>50.933567</td>\n",
       "      <td>1</td>\n",
       "      <td>web-rtc</td>\n",
       "    </tr>\n",
       "    <tr>\n",
       "      <th>4301</th>\n",
       "      <td>50.979146</td>\n",
       "      <td>1</td>\n",
       "      <td>web-rtc</td>\n",
       "    </tr>\n",
       "    <tr>\n",
       "      <th>4302</th>\n",
       "      <td>50.979177</td>\n",
       "      <td>1</td>\n",
       "      <td>web-rtc</td>\n",
       "    </tr>\n",
       "    <tr>\n",
       "      <th>4303</th>\n",
       "      <td>50.979194</td>\n",
       "      <td>1</td>\n",
       "      <td>web-rtc</td>\n",
       "    </tr>\n",
       "  </tbody>\n",
       "</table>\n",
       "<p>4304 rows × 3 columns</p>\n",
       "</div>"
      ],
      "text/plain": [
       "           Time  UE      App\n",
       "0     33.320161   1  web-rtc\n",
       "1     33.952039   1  web-rtc\n",
       "2     34.208800   1  web-rtc\n",
       "3     34.211274   1  web-rtc\n",
       "4     34.213375   1  web-rtc\n",
       "...         ...  ..      ...\n",
       "4299  50.932083   1  web-rtc\n",
       "4300  50.933567   1  web-rtc\n",
       "4301  50.979146   1  web-rtc\n",
       "4302  50.979177   1  web-rtc\n",
       "4303  50.979194   1  web-rtc\n",
       "\n",
       "[4304 rows x 3 columns]"
      ]
     },
     "execution_count": 11,
     "metadata": {},
     "output_type": "execute_result"
    }
   ],
   "source": [
    "new_df"
   ]
  },
  {
   "cell_type": "code",
   "execution_count": 13,
   "id": "c2778df4",
   "metadata": {},
   "outputs": [
    {
     "data": {
      "text/plain": [
       "(array([ 62., 227., 346., 488., 455., 520., 535., 470., 696., 505.]),\n",
       " array([33.320161 , 35.0860643, 36.8519676, 38.6178709, 40.3837742,\n",
       "        42.1496775, 43.9155808, 45.6814841, 47.4473874, 49.2132907,\n",
       "        50.979194 ]),\n",
       " <BarContainer object of 10 artists>)"
      ]
     },
     "execution_count": 13,
     "metadata": {},
     "output_type": "execute_result"
    },
    {
     "data": {
      "image/png": "[encoded data removed]",
      "text/plain": [
       "<Figure size 432x288 with 1 Axes>"
      ]
     },
     "metadata": {
      "needs_background": "light"
     },
     "output_type": "display_data"
    }
   ],
   "source": [
    "import matplotlib.pyplot as plt\n",
    "\n",
    "plt.hist(new_df['Time'])"
   ]
  },
  {
   "cell_type": "code",
   "execution_count": 19,
   "id": "0ba43b13",
   "metadata": {},
   "outputs": [
    {
     "data": {
      "text/html": [
       "<div>\n",
       "<style scoped>\n",
       "    .dataframe tbody tr th:only-of-type {\n",
       "        vertical-align: middle;\n",
       "    }\n",
       "\n",
       "    .dataframe tbody tr th {\n",
       "        vertical-align: top;\n",
       "    }\n",
       "\n",
       "    .dataframe thead th {\n",
       "        text-align: right;\n",
       "    }\n",
       "</style>\n",
       "<table border=\"1\" class=\"dataframe\">\n",
       "  <thead>\n",
       "    <tr style=\"text-align: right;\">\n",
       "      <th></th>\n",
       "      <th>Time</th>\n",
       "      <th>UE</th>\n",
       "      <th>App</th>\n",
       "    </tr>\n",
       "  </thead>\n",
       "  <tbody>\n",
       "    <tr>\n",
       "      <th>1000</th>\n",
       "      <td>39.970726</td>\n",
       "      <td>1</td>\n",
       "      <td>web-rtc</td>\n",
       "    </tr>\n",
       "    <tr>\n",
       "      <th>1001</th>\n",
       "      <td>39.971224</td>\n",
       "      <td>2</td>\n",
       "      <td>sipp</td>\n",
       "    </tr>\n",
       "    <tr>\n",
       "      <th>1002</th>\n",
       "      <td>39.971245</td>\n",
       "      <td>2</td>\n",
       "      <td>sipp</td>\n",
       "    </tr>\n",
       "    <tr>\n",
       "      <th>1003</th>\n",
       "      <td>39.971513</td>\n",
       "      <td>2</td>\n",
       "      <td>sipp</td>\n",
       "    </tr>\n",
       "    <tr>\n",
       "      <th>1004</th>\n",
       "      <td>39.972006</td>\n",
       "      <td>3</td>\n",
       "      <td>web-server</td>\n",
       "    </tr>\n",
       "    <tr>\n",
       "      <th>...</th>\n",
       "      <td>...</td>\n",
       "      <td>...</td>\n",
       "      <td>...</td>\n",
       "    </tr>\n",
       "    <tr>\n",
       "      <th>4299</th>\n",
       "      <td>50.932083</td>\n",
       "      <td>1</td>\n",
       "      <td>web-rtc</td>\n",
       "    </tr>\n",
       "    <tr>\n",
       "      <th>4300</th>\n",
       "      <td>50.933567</td>\n",
       "      <td>1</td>\n",
       "      <td>web-rtc</td>\n",
       "    </tr>\n",
       "    <tr>\n",
       "      <th>4301</th>\n",
       "      <td>50.979146</td>\n",
       "      <td>1</td>\n",
       "      <td>web-rtc</td>\n",
       "    </tr>\n",
       "    <tr>\n",
       "      <th>4302</th>\n",
       "      <td>50.979177</td>\n",
       "      <td>1</td>\n",
       "      <td>web-rtc</td>\n",
       "    </tr>\n",
       "    <tr>\n",
       "      <th>4303</th>\n",
       "      <td>50.979194</td>\n",
       "      <td>1</td>\n",
       "      <td>web-rtc</td>\n",
       "    </tr>\n",
       "  </tbody>\n",
       "</table>\n",
       "<p>3304 rows × 3 columns</p>\n",
       "</div>"
      ],
      "text/plain": [
       "           Time  UE         App\n",
       "1000  39.970726   1     web-rtc\n",
       "1001  39.971224   2        sipp\n",
       "1002  39.971245   2        sipp\n",
       "1003  39.971513   2        sipp\n",
       "1004  39.972006   3  web-server\n",
       "...         ...  ..         ...\n",
       "4299  50.932083   1     web-rtc\n",
       "4300  50.933567   1     web-rtc\n",
       "4301  50.979146   1     web-rtc\n",
       "4302  50.979177   1     web-rtc\n",
       "4303  50.979194   1     web-rtc\n",
       "\n",
       "[3304 rows x 3 columns]"
      ]
     },
     "execution_count": 19,
     "metadata": {},
     "output_type": "execute_result"
    }
   ],
   "source": [
    "new_df.iloc[1000:,:]"
   ]
  },
  {
   "cell_type": "code",
   "execution_count": 105,
   "id": "59ec6fcb",
   "metadata": {},
   "outputs": [],
   "source": [
    "def window_crop(new_df, offset = 1000, duration=1):\n",
    "    all_windows = []\n",
    "    web_rtc = []\n",
    "    sipp = []\n",
    "    web_server = []\n",
    "    \n",
    "    \n",
    "    time_start = -1 \n",
    "    for i, row in new_df.iloc[offset:,:].iterrows():\n",
    "\n",
    "        if time_start == -1:\n",
    "            time_start = row['Time']\n",
    "            index_start = i\n",
    "\n",
    "        time_end = row['Time']\n",
    "\n",
    "        # check elapsed time\n",
    "        if time_end - time_start > duration:\n",
    "            time_start = -1\n",
    "            index_end = i\n",
    "\n",
    "            # crop window\n",
    "            window = new_df.iloc[index_start:index_end+1,:]\n",
    "\n",
    "            count_values = dict(window['App'].value_counts())\n",
    "            \n",
    "            if 'web-rtc' in count_values.keys():\n",
    "                web_rtc.append(count_values['web-rtc'])\n",
    "                #web_rtc.append(1)\n",
    "                \n",
    "            else:\n",
    "                web_rtc.append(0)\n",
    "               \n",
    "            if 'sipp' in count_values.keys():\n",
    "                sipp.append(count_values['sipp'])\n",
    "                #sipp.append(1)\n",
    "            else:\n",
    "                sipp.append(0)\n",
    "            if 'web-server' in count_values.keys():\n",
    "                web_server.append(count_values['web-server'])\n",
    "                #web_server.append(1)\n",
    "            else:\n",
    "                web_server.append(0)\n",
    "            \n",
    "    return web_rtc, sipp, web_server"
   ]
  },
  {
   "cell_type": "code",
   "execution_count": 112,
   "id": "8afd30c3",
   "metadata": {},
   "outputs": [],
   "source": [
    "web_rtc, sipp, web_server = window_crop(new_df, offset = 0, duration=1)"
   ]
  },
  {
   "cell_type": "code",
   "execution_count": 113,
   "id": "87080877",
   "metadata": {},
   "outputs": [
    {
     "data": {
      "text/plain": [
       "[16,\n",
       " 45,\n",
       " 63,\n",
       " 102,\n",
       " 185,\n",
       " 193,\n",
       " 223,\n",
       " 210,\n",
       " 198,\n",
       " 243,\n",
       " 295,\n",
       " 246,\n",
       " 250,\n",
       " 222,\n",
       " 331,\n",
       " 335,\n",
       " 333]"
      ]
     },
     "execution_count": 113,
     "metadata": {},
     "output_type": "execute_result"
    }
   ],
   "source": [
    "web_rtc"
   ]
  },
  {
   "cell_type": "code",
   "execution_count": 114,
   "id": "e28b0796",
   "metadata": {},
   "outputs": [
    {
     "data": {
      "text/plain": [
       "[<matplotlib.lines.Line2D at 0x7f1de7846da0>]"
      ]
     },
     "execution_count": 114,
     "metadata": {},
     "output_type": "execute_result"
    },
    {
     "data": {
      "image/png": "[encoded data removed]",
      "text/plain": [
       "<Figure size 432x288 with 1 Axes>"
      ]
     },
     "metadata": {
      "needs_background": "light"
     },
     "output_type": "display_data"
    }
   ],
   "source": [
    "plt.plot(web_rtc,color='orange')\n",
    "plt.plot(sipp, color ='blue')\n",
    "plt.plot(web_server, color='green')"
   ]
  },
  {
   "cell_type": "code",
   "execution_count": null,
   "id": "ea85f0ca",
   "metadata": {},
   "outputs": [],
   "source": []
  },
  {
   "cell_type": "code",
   "execution_count": 146,
   "id": "6f14d9a0",
   "metadata": {},
   "outputs": [],
   "source": [
    "def window_crop_new(new_df, offset = 1000, next_start_duration=0.2,window_duration=1):\n",
    "    all_windows = []\n",
    "    web_rtc = []\n",
    "    sipp = []\n",
    "    web_server = []\n",
    "    \n",
    "    \n",
    "    time_start = -1 \n",
    "    for i, row in new_df.iloc[offset:,:].iterrows():\n",
    "\n",
    "        if time_start == -1:\n",
    "            time_start = row['Time']\n",
    "            index_start = i\n",
    "            \n",
    "            # find window 1\n",
    "            web_rtc_temp, sipp_temp, web_server_temp = find_window(new_df, index_start, window_duration=window_duration)\n",
    "            if web_rtc_temp!=-1:\n",
    "                web_rtc.append(web_rtc_temp)\n",
    "                sipp.append(sipp_temp)\n",
    "                web_server.append(web_server_temp)\n",
    "            \n",
    "        time_end = row['Time']\n",
    "\n",
    "        # check elapsed time\n",
    "        if time_end - time_start > next_start_duration:\n",
    "            index_start = i\n",
    "            time_start = -1\n",
    "            \n",
    "            # find window 2\n",
    "            web_rtc_temp, sipp_temp, web_server_temp = find_window(new_df, index_start, window_duration=window_duration)\n",
    "            if web_rtc_temp!=-1:\n",
    "                web_rtc.append(web_rtc_temp)\n",
    "                sipp.append(sipp_temp)\n",
    "                web_server.append(web_server_temp)\n",
    "            \n",
    "    return web_rtc, sipp, web_server"
   ]
  },
  {
   "cell_type": "code",
   "execution_count": 147,
   "id": "e8e52203",
   "metadata": {},
   "outputs": [],
   "source": [
    "def find_window(df, index_start, window_duration=1):\n",
    "    web_rtc=-1 \n",
    "    sipp=-1\n",
    "    web_server=-1\n",
    "    for i, row in df.iloc[index_start:,:].iterrows():\n",
    "        if i == index_start:\n",
    "            time_start = row['Time']\n",
    "            \n",
    "        time_end = row['Time']\n",
    "        \n",
    "        # check elapsed time\n",
    "        if time_end - time_start > window_duration:\n",
    "            index_end = i\n",
    "            \n",
    "            # crop window\n",
    "            window = new_df.iloc[index_start:index_end+1,:]\n",
    "\n",
    "            count_values = dict(window['App'].value_counts())\n",
    "            \n",
    "            if 'web-rtc' in count_values.keys():\n",
    "                web_rtc = count_values['web-rtc']\n",
    "                #web_rtc.append(1)\n",
    "                \n",
    "            else:\n",
    "                web_rtc = 0\n",
    "               \n",
    "            if 'sipp' in count_values.keys():\n",
    "                sipp = count_values['sipp']\n",
    "                #sipp.append(1)\n",
    "            else:\n",
    "                sipp = 0\n",
    "            if 'web-server' in count_values.keys():\n",
    "                web_server = count_values['web-server'] \n",
    "                #web_server.append(1)\n",
    "            else:\n",
    "                web_server = 0\n",
    "            break\n",
    "\n",
    "    return web_rtc, sipp, web_server"
   ]
  },
  {
   "cell_type": "code",
   "execution_count": 162,
   "id": "7f7e85d6",
   "metadata": {},
   "outputs": [],
   "source": [
    "web_rtc, sipp, web_server = window_crop_new(new_df, offset = 1000, next_start_duration=0.1, window_duration=0.3)"
   ]
  },
  {
   "cell_type": "code",
   "execution_count": 163,
   "id": "e2b041d7",
   "metadata": {},
   "outputs": [
    {
     "data": {
      "text/plain": [
       "[<matplotlib.lines.Line2D at 0x7f1de7317550>]"
      ]
     },
     "execution_count": 163,
     "metadata": {},
     "output_type": "execute_result"
    },
    {
     "data": {
      "image/png": "[encoded data removed]",
      "text/plain": [
       "<Figure size 432x288 with 1 Axes>"
      ]
     },
     "metadata": {
      "needs_background": "light"
     },
     "output_type": "display_data"
    }
   ],
   "source": [
    "plt.plot(web_rtc,color='orange')\n",
    "plt.plot(sipp, color ='blue')\n",
    "plt.plot(web_server, color='green')"
   ]
  },
  {
   "cell_type": "code",
   "execution_count": 167,
   "id": "3cf3b271",
   "metadata": {},
   "outputs": [
    {
     "data": {
      "image/png": "[encoded data removed]",
      "text/plain": [
       "<Figure size 432x288 with 1 Axes>"
      ]
     },
     "metadata": {
      "needs_background": "light"
     },
     "output_type": "display_data"
    },
    {
     "data": {
      "image/png": "[encoded data removed]",
      "text/plain": [
       "<Figure size 432x288 with 1 Axes>"
      ]
     },
     "metadata": {
      "needs_background": "light"
     },
     "output_type": "display_data"
    },
    {
     "data": {
      "image/png": "[encoded data removed]",
      "text/plain": [
       "<Figure size 432x288 with 1 Axes>"
      ]
     },
     "metadata": {
      "needs_background": "light"
     },
     "output_type": "display_data"
    },
    {
     "data": {
      "image/png": "[encoded data removed]",
      "text/plain": [
       "<Figure size 432x288 with 1 Axes>"
      ]
     },
     "metadata": {
      "needs_background": "light"
     },
     "output_type": "display_data"
    },
    {
     "data": {
      "image/png": "[encoded data removed]",
      "text/plain": [
       "<Figure size 432x288 with 1 Axes>"
      ]
     },
     "metadata": {
      "needs_background": "light"
     },
     "output_type": "display_data"
    },
    {
     "data": {
      "image/png": "[encoded data removed]",
      "text/plain": [
       "<Figure size 432x288 with 1 Axes>"
      ]
     },
     "metadata": {
      "needs_background": "light"
     },
     "output_type": "display_data"
    },
    {
     "data": {
      "image/png": "[encoded data removed]",
      "text/plain": [
       "<Figure size 432x288 with 1 Axes>"
      ]
     },
     "metadata": {
      "needs_background": "light"
     },
     "output_type": "display_data"
    },
    {
     "data": {
      "image/png": "[encoded data removed]",
      "text/plain": [
       "<Figure size 432x288 with 1 Axes>"
      ]
     },
     "metadata": {
      "needs_background": "light"
     },
     "output_type": "display_data"
    },
    {
     "data": {
      "image/png": "[encoded data removed]",
      "text/plain": [
       "<Figure size 432x288 with 1 Axes>"
      ]
     },
     "metadata": {
      "needs_background": "light"
     },
     "output_type": "display_data"
    }
   ],
   "source": [
    "next_starts = [0.1,0.2,0.4,0.5,0.6,0.7,0.8,0.9,1]\n",
    "win_durations = [1]\n",
    "for next_s in next_starts:\n",
    "    for win_d in win_durations:\n",
    "        web_rtc, sipp, web_server = window_crop_new(new_df, offset = 1000, next_start_duration=next_s, window_duration=win_d)\n",
    "\n",
    "        plt.figure()\n",
    "        plt.plot(web_rtc,color='orange')\n",
    "        plt.plot(sipp, color ='blue')\n",
    "        plt.plot(web_server, color='green')\n",
    "        plt.show()"
   ]
  },
  {
   "cell_type": "code",
   "execution_count": null,
   "id": "45a507f8",
   "metadata": {},
   "outputs": [],
   "source": []
  }
 ],
 "metadata": {
  "kernelspec": {
   "display_name": "Python 3",
   "language": "python",
   "name": "python3"
  },
  "language_info": {
   "codemirror_mode": {
    "name": "ipython",
    "version": 3
   },
   "file_extension": ".py",
   "mimetype": "text/x-python",
   "name": "python",
   "nbconvert_exporter": "python",
   "pygments_lexer": "ipython3",
   "version": "3.6.9"
  }
 },
 "nbformat": 4,
 "nbformat_minor": 5
}
